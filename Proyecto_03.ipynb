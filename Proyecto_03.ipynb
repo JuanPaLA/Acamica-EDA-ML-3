{
 "cells": [
  {
   "cell_type": "markdown",
   "metadata": {},
   "source": [
    "# Proyecto 03 - Procesamiento del Lenguaje Natural\n",
    "\n",
    "## Dataset: Big Data Reviews\n",
    "\n",
    "**Este dataset resulta de un trabajo de <a href=\"https://uba.academia.edu/gastonbecerra/Papers\">Gastón Becerra</a>, interesado en colectar valoraciones acerca de tecnologías emergentes en el espacio de publicaciones online en Argentina. En este caso en particular, trabajaremos sobre un dataset que contiene exclusivamente valoraciones textuales respecto a la noción de Big Data.**\n",
    "\n",
    "El siguiente notebok, exploraremos la posibilidad de construir un algoritmo de clasificación que pueda, haciendo uso de todo lo aprendido en el curso, etiquetar correctamente estas valoraciones. Para ello haremos uso de técnicas de NLP y modelado para construir un algoritmo de análisis de sentimientos. \n",
    "\n",
    "El dataset puede ser encontrado en el siguiente <a href=\"https://drive.google.com/file/d/14HsqdkcVn_Z0yC8odb1fwwJVnMfMPZBn/view?usp=sharing\"> sitio</a>. \n",
    "\n",
    "El dataset ha sido construido en diversas fases: primero a través de un proceso de scrapping a sitios online de importancia en Argentina; y, luego, a través de la construcción de una interfaz web donde utilizamos **Angular JS** y una conexión a **Firebase** para poder clasificar la muestra inicial a través de allegados y conocidos.\n",
    "\n",
    "Pueden dar un vistazo a la interfaz de clasificación <a href=\"https://fraser6-d10a4.web.app/\"> aquí</a>. "
   ]
  },
  {
   "cell_type": "markdown",
   "metadata": {},
   "source": [
    "<hr></hr>"
   ]
  },
  {
   "cell_type": "markdown",
   "metadata": {},
   "source": [
    "# Exploración de datos y Procesamiento del Lenguaje Natural\n",
    "\n",
    "Dedícale un buen tiempo a hacer un Análisis Exploratorio de Datos. Considera que hasta que no hayas aplicado las herramientas de Procesamiento del Lenguaje Natural vistas, será difícil completar este análisis. Elige preguntas que creas que puedas responder con este dataset. Por ejemplo, ¿qué palabras están asociadas a calificaciones positivas y qué palabras a calificaciones negativas?"
   ]
  },
  {
   "cell_type": "code",
   "execution_count": 79,
   "metadata": {},
   "outputs": [
    {
     "name": "stderr",
     "output_type": "stream",
     "text": [
      "[nltk_data] Downloading package punkt to\n",
      "[nltk_data]     C:\\Users\\juanp\\AppData\\Roaming\\nltk_data...\n",
      "[nltk_data]   Package punkt is already up-to-date!\n",
      "[nltk_data] Downloading package stopwords to\n",
      "[nltk_data]     C:\\Users\\juanp\\AppData\\Roaming\\nltk_data...\n",
      "[nltk_data]   Package stopwords is already up-to-date!\n"
     ]
    },
    {
     "data": {
      "text/plain": [
       "True"
      ]
     },
     "execution_count": 79,
     "metadata": {},
     "output_type": "execute_result"
    }
   ],
   "source": [
    "# Importamos librerías\n",
    "import itertools\n",
    "\n",
    "import numpy as np\n",
    "import pandas as pd\n",
    "\n",
    "import matplotlib.pyplot as plt\n",
    "import seaborn as sns\n",
    "sns.set()\n",
    "\n",
    "import nltk\n",
    "\n",
    "#Esto sirve para configurar NLTK. La primera vez puede tardar un poco\n",
    "nltk.download('punkt')\n",
    "nltk.download('stopwords')"
   ]
  },
  {
   "cell_type": "code",
   "execution_count": 80,
   "metadata": {},
   "outputs": [
    {
     "data": {
      "text/html": [
       "<div>\n",
       "<style scoped>\n",
       "    .dataframe tbody tr th:only-of-type {\n",
       "        vertical-align: middle;\n",
       "    }\n",
       "\n",
       "    .dataframe tbody tr th {\n",
       "        vertical-align: top;\n",
       "    }\n",
       "\n",
       "    .dataframe thead th {\n",
       "        text-align: right;\n",
       "    }\n",
       "</style>\n",
       "<table border=\"1\" class=\"dataframe\">\n",
       "  <thead>\n",
       "    <tr style=\"text-align: right;\">\n",
       "      <th></th>\n",
       "      <th>estado</th>\n",
       "      <th>id</th>\n",
       "      <th>oracion</th>\n",
       "    </tr>\n",
       "  </thead>\n",
       "  <tbody>\n",
       "    <tr>\n",
       "      <th>0</th>\n",
       "      <td>positivo</td>\n",
       "      <td>0</td>\n",
       "      <td>' ( el bigdata ) es una forma que guizhou usó ...</td>\n",
       "    </tr>\n",
       "    <tr>\n",
       "      <th>1</th>\n",
       "      <td>positivo</td>\n",
       "      <td>4</td>\n",
       "      <td>' a la variedad , volumen y veracidad de infor...</td>\n",
       "    </tr>\n",
       "    <tr>\n",
       "      <th>2</th>\n",
       "      <td>positivo</td>\n",
       "      <td>5</td>\n",
       "      <td>' a la variedad , volumen y veracidad de infor...</td>\n",
       "    </tr>\n",
       "    <tr>\n",
       "      <th>3</th>\n",
       "      <td>positivo</td>\n",
       "      <td>6</td>\n",
       "      <td>' a medida que florezca la industria nacional ...</td>\n",
       "    </tr>\n",
       "    <tr>\n",
       "      <th>4</th>\n",
       "      <td>positivo</td>\n",
       "      <td>10</td>\n",
       "      <td>' además , esta información también puede ser ...</td>\n",
       "    </tr>\n",
       "  </tbody>\n",
       "</table>\n",
       "</div>"
      ],
      "text/plain": [
       "     estado  id                                            oracion\n",
       "0  positivo   0  ' ( el bigdata ) es una forma que guizhou usó ...\n",
       "1  positivo   4  ' a la variedad , volumen y veracidad de infor...\n",
       "2  positivo   5  ' a la variedad , volumen y veracidad de infor...\n",
       "3  positivo   6  ' a medida que florezca la industria nacional ...\n",
       "4  positivo  10  ' además , esta información también puede ser ..."
      ]
     },
     "execution_count": 80,
     "metadata": {},
     "output_type": "execute_result"
    }
   ],
   "source": [
    "# Importamos dataset\n",
    "dataset = pd.read_csv('oraciones_entrenar.csv')\n",
    "dataset.head()"
   ]
  },
  {
   "cell_type": "markdown",
   "metadata": {},
   "source": [
    "<div style=\"padding: 10px 10px 10px 10px; background-color:lightgrey; text-align:left\">\n",
    "    <h4>Observaciones</h4>\n",
    "    <p>Como se obserba, el dataset es bien simple: un estado (etiqueta de valoración binaria), y la oración; <i>y, X</i>. </p>\n",
    "    <p>Todas las oraciones tienen como atributo referirse de una u otra manera a la noción de <strong>big data</strong></p>\n",
    "    <p>Luego de haber sido colectadas a través de scrapping, todas las oraciones han sido clasificadas por hurmanos ayudando en este proceso de investigación.</p>\n",
    "    <p>La columna <i>id</i>, que muestra un desfase con index, pone en envidencia que existe una muestra mayor de comentarios que aún no han sido clasificados.</p>\n",
    "    <p>A lo largo de este notebook trataremos de construir un modelo de clasificación de sentimientos para los aún no clasificados</p>\n",
    "</div>"
   ]
  },
  {
   "cell_type": "code",
   "execution_count": 81,
   "metadata": {},
   "outputs": [
    {
     "data": {
      "image/png": "[encoded data removed]",
      "text/plain": [
       "<Figure size 432x288 with 1 Axes>"
      ]
     },
     "metadata": {},
     "output_type": "display_data"
    }
   ],
   "source": [
    "sns.countplot(dataset.estado)\n",
    "plt.show()"
   ]
  },
  {
   "cell_type": "markdown",
   "metadata": {},
   "source": [
    "<div style=\"padding: 10px 10px 10px 10px; background-color:tomato; text-align:center\">\n",
    "    <h4 style=\"text-align:left\">Observaciones</h4>\n",
    "    <p style=\"text-align:left\">Se observa lo que será un problema importante: el desbalance de muestras clasificadas en una relación de 4 : 1 (4 + : 4 -).</p>\n",
    "    <p style=\"text-align:left\">Se exolorarán soluciones a este problema previo al momento de modelización (Oversampling methods)</p>\n",
    "    <div style=\"text-align:left\">\n",
    "        <h4> Pasos siguientes</h4>\n",
    "        <ul>\n",
    "        <ol> Exploración de comentarios + y - </ol>\n",
    "        <ol> Establecimiento de hipótesis </ol>\n",
    "        <ol> Normalización </ol>\n",
    "            </ul>\n",
    "    </div>\n",
    "</div>"
   ]
  },
  {
   "cell_type": "markdown",
   "metadata": {},
   "source": [
    "## Exploración de comentarios negativos"
   ]
  },
  {
   "cell_type": "code",
   "execution_count": 82,
   "metadata": {},
   "outputs": [],
   "source": [
    "dataset_negativo = dataset[dataset.estado == 'negativo']\n",
    "dataset_positivo = dataset[dataset.estado == 'positivo']"
   ]
  },
  {
   "cell_type": "code",
   "execution_count": 83,
   "metadata": {},
   "outputs": [
    {
     "name": "stdout",
     "output_type": "stream",
     "text": [
      "Shape negativos =>  (99, 3) \n",
      "Shape positivos =>  (412, 3)\n"
     ]
    }
   ],
   "source": [
    "print('Shape negativos => ', dataset_negativo.shape, '\\nShape positivos => ',  dataset_positivo.shape)"
   ]
  },
  {
   "cell_type": "code",
   "execution_count": 84,
   "metadata": {},
   "outputs": [],
   "source": [
    "stopwords = nltk.corpus.stopwords.words('spanish')\n",
    "stopwords = [palabra for palabra in stopwords if 'not' not in palabra]\n",
    "review_negativas = []\n",
    "for i in range(dataset_negativo.shape[0]):\n",
    "    review = dataset_negativo.iloc[i].oracion\n",
    "    review = nltk.tokenize.RegexpTokenizer(\"[\\w]+\").tokenize(review)\n",
    "    review = [string.lower() for string in review]\n",
    "    review = [word for word in review if word not in stopwords]\n",
    "    \n",
    "    review_negativas.append(review)"
   ]
  },
  {
   "cell_type": "code",
   "execution_count": 85,
   "metadata": {},
   "outputs": [],
   "source": [
    "stopwords = nltk.corpus.stopwords.words('spanish')\n",
    "stopwords = [palabra for palabra in stopwords if 'not' not in palabra]\n",
    "review_positivas = []\n",
    "for i in range(dataset_positivo.shape[0]):\n",
    "    review = dataset_positivo.iloc[i].oracion\n",
    "    review = nltk.tokenize.RegexpTokenizer(\"[\\w]+\").tokenize(review)\n",
    "    review = [string.lower() for string in review]\n",
    "    review = [word for word in review if word not in stopwords]\n",
    "    \n",
    "    review_positivas.append(review)"
   ]
  },
  {
   "cell_type": "code",
   "execution_count": 86,
   "metadata": {},
   "outputs": [],
   "source": [
    "review_negativas = list(itertools.chain(*review_negativas))\n",
    "review_positivas = list(itertools.chain(*review_positivas))"
   ]
  },
  {
   "cell_type": "code",
   "execution_count": 87,
   "metadata": {},
   "outputs": [
    {
     "data": {
      "text/plain": [
       "FreqDist({'bigdata': 102, 'datos': 43, 'información': 21, 'puede': 12, 'uso': 10, 'si': 10, 'hacer': 9, 'empresas': 9, 'personales': 8, 'salud': 8, ...})"
      ]
     },
     "execution_count": 87,
     "metadata": {},
     "output_type": "execute_result"
    }
   ],
   "source": [
    "freq_negativas = nltk.FreqDist(review_negativas)\n",
    "freq_negativas"
   ]
  },
  {
   "cell_type": "code",
   "execution_count": 88,
   "metadata": {},
   "outputs": [
    {
     "data": {
      "text/plain": [
       "FreqDist({'bigdata': 433, 'datos': 134, 'información': 69, 'análisis': 48, 'uso': 38, 'grandes': 37, 'tecnología': 35, 'tecnologías': 28, 'clientes': 28, 'inteligencia_artificial': 28, ...})"
      ]
     },
     "execution_count": 88,
     "metadata": {},
     "output_type": "execute_result"
    }
   ],
   "source": [
    "freq_positivas = nltk.FreqDist(review_positivas)\n",
    "freq_positivas"
   ]
  },
  {
   "cell_type": "code",
   "execution_count": 89,
   "metadata": {},
   "outputs": [
    {
     "name": "stdout",
     "output_type": "stream",
     "text": [
      "----------REVIEWS NEGATIVAS----------\n"
     ]
    },
    {
     "data": {
      "text/html": [
       "<div>\n",
       "<style scoped>\n",
       "    .dataframe tbody tr th:only-of-type {\n",
       "        vertical-align: middle;\n",
       "    }\n",
       "\n",
       "    .dataframe tbody tr th {\n",
       "        vertical-align: top;\n",
       "    }\n",
       "\n",
       "    .dataframe thead th {\n",
       "        text-align: right;\n",
       "    }\n",
       "</style>\n",
       "<table border=\"1\" class=\"dataframe\">\n",
       "  <thead>\n",
       "    <tr style=\"text-align: right;\">\n",
       "      <th></th>\n",
       "      <th>Word</th>\n",
       "      <th>Frequency</th>\n",
       "    </tr>\n",
       "  </thead>\n",
       "  <tbody>\n",
       "    <tr>\n",
       "      <th>3</th>\n",
       "      <td>bigdata</td>\n",
       "      <td>102</td>\n",
       "    </tr>\n",
       "    <tr>\n",
       "      <th>22</th>\n",
       "      <td>datos</td>\n",
       "      <td>43</td>\n",
       "    </tr>\n",
       "    <tr>\n",
       "      <th>5</th>\n",
       "      <td>información</td>\n",
       "      <td>21</td>\n",
       "    </tr>\n",
       "    <tr>\n",
       "      <th>68</th>\n",
       "      <td>puede</td>\n",
       "      <td>12</td>\n",
       "    </tr>\n",
       "    <tr>\n",
       "      <th>96</th>\n",
       "      <td>si</td>\n",
       "      <td>10</td>\n",
       "    </tr>\n",
       "    <tr>\n",
       "      <th>52</th>\n",
       "      <td>uso</td>\n",
       "      <td>10</td>\n",
       "    </tr>\n",
       "    <tr>\n",
       "      <th>69</th>\n",
       "      <td>hacer</td>\n",
       "      <td>9</td>\n",
       "    </tr>\n",
       "    <tr>\n",
       "      <th>94</th>\n",
       "      <td>empresas</td>\n",
       "      <td>9</td>\n",
       "    </tr>\n",
       "    <tr>\n",
       "      <th>169</th>\n",
       "      <td>personales</td>\n",
       "      <td>8</td>\n",
       "    </tr>\n",
       "    <tr>\n",
       "      <th>253</th>\n",
       "      <td>salud</td>\n",
       "      <td>8</td>\n",
       "    </tr>\n",
       "  </tbody>\n",
       "</table>\n",
       "</div>"
      ],
      "text/plain": [
       "            Word  Frequency\n",
       "3        bigdata        102\n",
       "22         datos         43\n",
       "5    información         21\n",
       "68         puede         12\n",
       "96            si         10\n",
       "52           uso         10\n",
       "69         hacer          9\n",
       "94      empresas          9\n",
       "169   personales          8\n",
       "253        salud          8"
      ]
     },
     "execution_count": 89,
     "metadata": {},
     "output_type": "execute_result"
    }
   ],
   "source": [
    "# Distribución de vocabulario negativo\n",
    "df_negativas = pd.DataFrame(list(freq_negativas.items()), columns = [\"Word\",\"Frequency\"])\n",
    "print('----------REVIEWS NEGATIVAS----------')\n",
    "df_negativas.sort_values('Frequency',ascending=False, inplace = True)\n",
    "df_negativas.head(10)"
   ]
  },
  {
   "cell_type": "code",
   "execution_count": 90,
   "metadata": {},
   "outputs": [
    {
     "name": "stdout",
     "output_type": "stream",
     "text": [
      "----------REVIES POSITIVAS---------------\n"
     ]
    },
    {
     "data": {
      "text/html": [
       "<div>\n",
       "<style scoped>\n",
       "    .dataframe tbody tr th:only-of-type {\n",
       "        vertical-align: middle;\n",
       "    }\n",
       "\n",
       "    .dataframe tbody tr th {\n",
       "        vertical-align: top;\n",
       "    }\n",
       "\n",
       "    .dataframe thead th {\n",
       "        text-align: right;\n",
       "    }\n",
       "</style>\n",
       "<table border=\"1\" class=\"dataframe\">\n",
       "  <thead>\n",
       "    <tr style=\"text-align: right;\">\n",
       "      <th></th>\n",
       "      <th>Word</th>\n",
       "      <th>Frequency</th>\n",
       "    </tr>\n",
       "  </thead>\n",
       "  <tbody>\n",
       "    <tr>\n",
       "      <th>0</th>\n",
       "      <td>bigdata</td>\n",
       "      <td>433</td>\n",
       "    </tr>\n",
       "    <tr>\n",
       "      <th>80</th>\n",
       "      <td>datos</td>\n",
       "      <td>134</td>\n",
       "    </tr>\n",
       "    <tr>\n",
       "      <th>9</th>\n",
       "      <td>información</td>\n",
       "      <td>69</td>\n",
       "    </tr>\n",
       "    <tr>\n",
       "      <th>15</th>\n",
       "      <td>análisis</td>\n",
       "      <td>48</td>\n",
       "    </tr>\n",
       "    <tr>\n",
       "      <th>188</th>\n",
       "      <td>uso</td>\n",
       "      <td>38</td>\n",
       "    </tr>\n",
       "    <tr>\n",
       "      <th>293</th>\n",
       "      <td>grandes</td>\n",
       "      <td>37</td>\n",
       "    </tr>\n",
       "    <tr>\n",
       "      <th>149</th>\n",
       "      <td>tecnología</td>\n",
       "      <td>35</td>\n",
       "    </tr>\n",
       "    <tr>\n",
       "      <th>422</th>\n",
       "      <td>inteligencia_artificial</td>\n",
       "      <td>28</td>\n",
       "    </tr>\n",
       "    <tr>\n",
       "      <th>54</th>\n",
       "      <td>tecnologías</td>\n",
       "      <td>28</td>\n",
       "    </tr>\n",
       "    <tr>\n",
       "      <th>386</th>\n",
       "      <td>clientes</td>\n",
       "      <td>28</td>\n",
       "    </tr>\n",
       "  </tbody>\n",
       "</table>\n",
       "</div>"
      ],
      "text/plain": [
       "                        Word  Frequency\n",
       "0                    bigdata        433\n",
       "80                     datos        134\n",
       "9                información         69\n",
       "15                  análisis         48\n",
       "188                      uso         38\n",
       "293                  grandes         37\n",
       "149               tecnología         35\n",
       "422  inteligencia_artificial         28\n",
       "54               tecnologías         28\n",
       "386                 clientes         28"
      ]
     },
     "execution_count": 90,
     "metadata": {},
     "output_type": "execute_result"
    }
   ],
   "source": [
    "# Distribución de vocabulario positivo\n",
    "df_positivas = pd.DataFrame(list(freq_positivas.items()), columns = [\"Word\",\"Frequency\"])\n",
    "print('----------REVIES POSITIVAS---------------')\n",
    "df_positivas.sort_values('Frequency',ascending=False, inplace = True)\n",
    "df_positivas.head(10)"
   ]
  },
  {
   "cell_type": "markdown",
   "metadata": {},
   "source": [
    "<hr/>"
   ]
  },
  {
   "cell_type": "markdown",
   "metadata": {},
   "source": [
    "# Hipótesis / Problema"
   ]
  },
  {
   "cell_type": "markdown",
   "metadata": {},
   "source": [
    "<div style=\"padding: 10px 10px 10px 10px; background-color:tomato; text-align:center\">\n",
    "<h4 style=\"text-align:left\">Observaciones</h4>\n",
    "    <div style=\"text-align:left\">\n",
    "<p style=\"text-align:left\">Se observan 2 grandes problemas: </p>\n",
    "    <ul>\n",
    "        <li>Por un lado, como observamos antes, tenemos un desbalance importante entre las muestras clasificadas como positivas y negativas.</li>\n",
    "        <li>Por el otro, como puede observase en los listados de distribución y en los gráficos aquí arriba, el problema anterior se agucede en la medida en la que reconocemos que el vocabulario dominante en ambas clasificaciones pareciera ser muy parecido. </li>\n",
    "    </ul>\n",
    "    \n",
    "Puede suponerse que ambos problemas redunden en lo que puede plantearse aquí como un proyecto/hipotesis interesantes: <br>\n",
    "    <p>Dado el desbalance de muestra y la similitud de vocabulario,<strong>¿Podremos construir un modelo de clasificación eficiente? </strong></p>\n",
    "    </div>\n",
    "</div>"
   ]
  },
  {
   "cell_type": "markdown",
   "metadata": {},
   "source": [
    "# Normalización"
   ]
  },
  {
   "cell_type": "markdown",
   "metadata": {},
   "source": [
    "## `Normalización y lemmatización con spacy`"
   ]
  },
  {
   "cell_type": "code",
   "execution_count": 91,
   "metadata": {},
   "outputs": [],
   "source": [
    "# Importamos las librerías necesarias para el proceso\n",
    "from sklearn.feature_extraction.text import CountVectorizer\n",
    "from sklearn.base import TransformerMixin\n",
    "from sklearn.pipeline import Pipeline\n",
    "from sklearn.svm import LinearSVC\n",
    "#from sklearn.feature_extraction.stop_words import SPANISH_STOP_WORDS\n",
    "from sklearn.metrics import accuracy_score\n",
    "from nltk.corpus import stopwords\n",
    "import string\n",
    "import re\n",
    "import spacy\n",
    "# spacy.load('en')\n",
    "from spacy.lang.es import Spanish\n",
    "parser = Spanish()"
   ]
  },
  {
   "cell_type": "code",
   "execution_count": 92,
   "metadata": {},
   "outputs": [],
   "source": [
    "import spacy\n",
    "nlp = spacy.load(\"es_core_news_sm\")"
   ]
  },
  {
   "cell_type": "markdown",
   "metadata": {},
   "source": [
    "#### `Funciones de normalizado y lemmatizado`"
   ]
  },
  {
   "cell_type": "code",
   "execution_count": 93,
   "metadata": {},
   "outputs": [],
   "source": [
    "# Función para el procesamiento-normalización de los tokens\n",
    "import re\n",
    "\n",
    "def preprocess(text):\n",
    "    new_text = re.sub('<.*?>', '', text)   # remove HTML tags\n",
    "    #new_text = re.sub(\"[^a-zA-Z]\",\" \",str(x))\n",
    "    new_text = re.sub(r'[^\\w\\s]', '', new_text) # remove punc.\n",
    "    new_text = re.sub(r'\\d+','',new_text)# remove numbers\n",
    "    new_text = new_text.lower() # lower case, .upper() for upper\n",
    "    new_text = re.sub(' +', ' ', new_text) # remove multiple spaces\n",
    "    return new_text"
   ]
  },
  {
   "cell_type": "code",
   "execution_count": 94,
   "metadata": {},
   "outputs": [],
   "source": [
    "# Función para el lemmatizado\n",
    "def lemmatizer(text):\n",
    "    doc = nlp(text)\n",
    "    return ' '.join([word.lemma_ for word in doc])"
   ]
  },
  {
   "cell_type": "code",
   "execution_count": 95,
   "metadata": {},
   "outputs": [],
   "source": [
    "# Creamos un nuevo dataset para no joder la cosa\n",
    "df = dataset"
   ]
  },
  {
   "cell_type": "code",
   "execution_count": 96,
   "metadata": {},
   "outputs": [],
   "source": [
    "# Creamos una nueva columna con el texto pre-procesados\n",
    "df['review_clean'] = df['oracion'].apply(lambda x : preprocess(x))"
   ]
  },
  {
   "cell_type": "code",
   "execution_count": 97,
   "metadata": {},
   "outputs": [
    {
     "data": {
      "text/html": [
       "<div>\n",
       "<style scoped>\n",
       "    .dataframe tbody tr th:only-of-type {\n",
       "        vertical-align: middle;\n",
       "    }\n",
       "\n",
       "    .dataframe tbody tr th {\n",
       "        vertical-align: top;\n",
       "    }\n",
       "\n",
       "    .dataframe thead th {\n",
       "        text-align: right;\n",
       "    }\n",
       "</style>\n",
       "<table border=\"1\" class=\"dataframe\">\n",
       "  <thead>\n",
       "    <tr style=\"text-align: right;\">\n",
       "      <th></th>\n",
       "      <th>estado</th>\n",
       "      <th>id</th>\n",
       "      <th>oracion</th>\n",
       "      <th>review_clean</th>\n",
       "    </tr>\n",
       "  </thead>\n",
       "  <tbody>\n",
       "    <tr>\n",
       "      <th>0</th>\n",
       "      <td>positivo</td>\n",
       "      <td>0</td>\n",
       "      <td>' ( el bigdata ) es una forma que guizhou usó ...</td>\n",
       "      <td>el bigdata es una forma que guizhou usó para ...</td>\n",
       "    </tr>\n",
       "  </tbody>\n",
       "</table>\n",
       "</div>"
      ],
      "text/plain": [
       "     estado  id                                            oracion  \\\n",
       "0  positivo   0  ' ( el bigdata ) es una forma que guizhou usó ...   \n",
       "\n",
       "                                        review_clean  \n",
       "0   el bigdata es una forma que guizhou usó para ...  "
      ]
     },
     "execution_count": 97,
     "metadata": {},
     "output_type": "execute_result"
    }
   ],
   "source": [
    "df.head(1)"
   ]
  },
  {
   "cell_type": "code",
   "execution_count": 98,
   "metadata": {},
   "outputs": [],
   "source": [
    "# Creamos una nueva columna para la lemmatización sobre el texto recientemente pre-procesado\n",
    "df['review_lemm'] = df['review_clean'].apply(lambda x : lemmatizer(x))"
   ]
  },
  {
   "cell_type": "code",
   "execution_count": 99,
   "metadata": {
    "collapsed": true,
    "jupyter": {
     "outputs_hidden": true
    }
   },
   "outputs": [
    {
     "data": {
      "text/plain": [
       "['de',\n",
       " 'la',\n",
       " 'que',\n",
       " 'el',\n",
       " 'en',\n",
       " 'y',\n",
       " 'a',\n",
       " 'los',\n",
       " 'del',\n",
       " 'se',\n",
       " 'las',\n",
       " 'por',\n",
       " 'un',\n",
       " 'para',\n",
       " 'con',\n",
       " 'no',\n",
       " 'una',\n",
       " 'su',\n",
       " 'al',\n",
       " 'lo',\n",
       " 'como',\n",
       " 'más',\n",
       " 'pero',\n",
       " 'sus',\n",
       " 'le',\n",
       " 'ya',\n",
       " 'o',\n",
       " 'este',\n",
       " 'sí',\n",
       " 'porque',\n",
       " 'esta',\n",
       " 'entre',\n",
       " 'cuando',\n",
       " 'muy',\n",
       " 'sin',\n",
       " 'sobre',\n",
       " 'también',\n",
       " 'me',\n",
       " 'hasta',\n",
       " 'hay',\n",
       " 'donde',\n",
       " 'quien',\n",
       " 'desde',\n",
       " 'todo',\n",
       " 'nos',\n",
       " 'durante',\n",
       " 'todos',\n",
       " 'uno',\n",
       " 'les',\n",
       " 'ni',\n",
       " 'contra',\n",
       " 'otros',\n",
       " 'ese',\n",
       " 'eso',\n",
       " 'ante',\n",
       " 'ellos',\n",
       " 'e',\n",
       " 'esto',\n",
       " 'mí',\n",
       " 'antes',\n",
       " 'algunos',\n",
       " 'qué',\n",
       " 'unos',\n",
       " 'yo',\n",
       " 'otro',\n",
       " 'otras',\n",
       " 'otra',\n",
       " 'él',\n",
       " 'tanto',\n",
       " 'esa',\n",
       " 'estos',\n",
       " 'mucho',\n",
       " 'quienes',\n",
       " 'nada',\n",
       " 'muchos',\n",
       " 'cual',\n",
       " 'poco',\n",
       " 'ella',\n",
       " 'estar',\n",
       " 'estas',\n",
       " 'algunas',\n",
       " 'algo',\n",
       " 'nosotros',\n",
       " 'mi',\n",
       " 'mis',\n",
       " 'tú',\n",
       " 'te',\n",
       " 'ti',\n",
       " 'tu',\n",
       " 'tus',\n",
       " 'ellas',\n",
       " 'nosotras',\n",
       " 'vosotros',\n",
       " 'vosotras',\n",
       " 'os',\n",
       " 'mío',\n",
       " 'mía',\n",
       " 'míos',\n",
       " 'mías',\n",
       " 'tuyo',\n",
       " 'tuya',\n",
       " 'tuyos',\n",
       " 'tuyas',\n",
       " 'suyo',\n",
       " 'suya',\n",
       " 'suyos',\n",
       " 'suyas',\n",
       " 'nuestro',\n",
       " 'nuestra',\n",
       " 'nuestros',\n",
       " 'nuestras',\n",
       " 'vuestro',\n",
       " 'vuestra',\n",
       " 'vuestros',\n",
       " 'vuestras',\n",
       " 'esos',\n",
       " 'esas',\n",
       " 'estoy',\n",
       " 'estás',\n",
       " 'está',\n",
       " 'estamos',\n",
       " 'estáis',\n",
       " 'están',\n",
       " 'esté',\n",
       " 'estés',\n",
       " 'estemos',\n",
       " 'estéis',\n",
       " 'estén',\n",
       " 'estaré',\n",
       " 'estarás',\n",
       " 'estará',\n",
       " 'estaremos',\n",
       " 'estaréis',\n",
       " 'estarán',\n",
       " 'estaría',\n",
       " 'estarías',\n",
       " 'estaríamos',\n",
       " 'estaríais',\n",
       " 'estarían',\n",
       " 'estaba',\n",
       " 'estabas',\n",
       " 'estábamos',\n",
       " 'estabais',\n",
       " 'estaban',\n",
       " 'estuve',\n",
       " 'estuviste',\n",
       " 'estuvo',\n",
       " 'estuvimos',\n",
       " 'estuvisteis',\n",
       " 'estuvieron',\n",
       " 'estuviera',\n",
       " 'estuvieras',\n",
       " 'estuviéramos',\n",
       " 'estuvierais',\n",
       " 'estuvieran',\n",
       " 'estuviese',\n",
       " 'estuvieses',\n",
       " 'estuviésemos',\n",
       " 'estuvieseis',\n",
       " 'estuviesen',\n",
       " 'estando',\n",
       " 'estado',\n",
       " 'estada',\n",
       " 'estados',\n",
       " 'estadas',\n",
       " 'estad',\n",
       " 'he',\n",
       " 'has',\n",
       " 'ha',\n",
       " 'hemos',\n",
       " 'habéis',\n",
       " 'han',\n",
       " 'haya',\n",
       " 'hayas',\n",
       " 'hayamos',\n",
       " 'hayáis',\n",
       " 'hayan',\n",
       " 'habré',\n",
       " 'habrás',\n",
       " 'habrá',\n",
       " 'habremos',\n",
       " 'habréis',\n",
       " 'habrán',\n",
       " 'habría',\n",
       " 'habrías',\n",
       " 'habríamos',\n",
       " 'habríais',\n",
       " 'habrían',\n",
       " 'había',\n",
       " 'habías',\n",
       " 'habíamos',\n",
       " 'habíais',\n",
       " 'habían',\n",
       " 'hube',\n",
       " 'hubiste',\n",
       " 'hubo',\n",
       " 'hubimos',\n",
       " 'hubisteis',\n",
       " 'hubieron',\n",
       " 'hubiera',\n",
       " 'hubieras',\n",
       " 'hubiéramos',\n",
       " 'hubierais',\n",
       " 'hubieran',\n",
       " 'hubiese',\n",
       " 'hubieses',\n",
       " 'hubiésemos',\n",
       " 'hubieseis',\n",
       " 'hubiesen',\n",
       " 'habiendo',\n",
       " 'habido',\n",
       " 'habida',\n",
       " 'habidos',\n",
       " 'habidas',\n",
       " 'soy',\n",
       " 'eres',\n",
       " 'es',\n",
       " 'somos',\n",
       " 'sois',\n",
       " 'son',\n",
       " 'sea',\n",
       " 'seas',\n",
       " 'seamos',\n",
       " 'seáis',\n",
       " 'sean',\n",
       " 'seré',\n",
       " 'serás',\n",
       " 'será',\n",
       " 'seremos',\n",
       " 'seréis',\n",
       " 'serán',\n",
       " 'sería',\n",
       " 'serías',\n",
       " 'seríamos',\n",
       " 'seríais',\n",
       " 'serían',\n",
       " 'era',\n",
       " 'eras',\n",
       " 'éramos',\n",
       " 'erais',\n",
       " 'eran',\n",
       " 'fui',\n",
       " 'fuiste',\n",
       " 'fue',\n",
       " 'fuimos',\n",
       " 'fuisteis',\n",
       " 'fueron',\n",
       " 'fuera',\n",
       " 'fueras',\n",
       " 'fuéramos',\n",
       " 'fuerais',\n",
       " 'fueran',\n",
       " 'fuese',\n",
       " 'fueses',\n",
       " 'fuésemos',\n",
       " 'fueseis',\n",
       " 'fuesen',\n",
       " 'sintiendo',\n",
       " 'sentido',\n",
       " 'sentida',\n",
       " 'sentidos',\n",
       " 'sentidas',\n",
       " 'siente',\n",
       " 'sentid',\n",
       " 'tengo',\n",
       " 'tienes',\n",
       " 'tiene',\n",
       " 'tenemos',\n",
       " 'tenéis',\n",
       " 'tienen',\n",
       " 'tenga',\n",
       " 'tengas',\n",
       " 'tengamos',\n",
       " 'tengáis',\n",
       " 'tengan',\n",
       " 'tendré',\n",
       " 'tendrás',\n",
       " 'tendrá',\n",
       " 'tendremos',\n",
       " 'tendréis',\n",
       " 'tendrán',\n",
       " 'tendría',\n",
       " 'tendrías',\n",
       " 'tendríamos',\n",
       " 'tendríais',\n",
       " 'tendrían',\n",
       " 'tenía',\n",
       " 'tenías',\n",
       " 'teníamos',\n",
       " 'teníais',\n",
       " 'tenían',\n",
       " 'tuve',\n",
       " 'tuviste',\n",
       " 'tuvo',\n",
       " 'tuvimos',\n",
       " 'tuvisteis',\n",
       " 'tuvieron',\n",
       " 'tuviera',\n",
       " 'tuvieras',\n",
       " 'tuviéramos',\n",
       " 'tuvierais',\n",
       " 'tuvieran',\n",
       " 'tuviese',\n",
       " 'tuvieses',\n",
       " 'tuviésemos',\n",
       " 'tuvieseis',\n",
       " 'tuviesen',\n",
       " 'teniendo',\n",
       " 'tenido',\n",
       " 'tenida',\n",
       " 'tenidos',\n",
       " 'tenidas',\n",
       " 'tened']"
      ]
     },
     "execution_count": 99,
     "metadata": {},
     "output_type": "execute_result"
    }
   ],
   "source": [
    "stopwords = nltk.corpus.stopwords.words('spanish')\n",
    "stopwords"
   ]
  },
  {
   "cell_type": "code",
   "execution_count": 100,
   "metadata": {},
   "outputs": [],
   "source": [
    "df['review_lemm'] = df['review_lemm'].apply(     lambda x: ' '.join([word for word in x.split() if word not in stopwords])     )"
   ]
  },
  {
   "cell_type": "code",
   "execution_count": 101,
   "metadata": {},
   "outputs": [
    {
     "data": {
      "text/html": [
       "<div>\n",
       "<style scoped>\n",
       "    .dataframe tbody tr th:only-of-type {\n",
       "        vertical-align: middle;\n",
       "    }\n",
       "\n",
       "    .dataframe tbody tr th {\n",
       "        vertical-align: top;\n",
       "    }\n",
       "\n",
       "    .dataframe thead th {\n",
       "        text-align: right;\n",
       "    }\n",
       "</style>\n",
       "<table border=\"1\" class=\"dataframe\">\n",
       "  <thead>\n",
       "    <tr style=\"text-align: right;\">\n",
       "      <th></th>\n",
       "      <th>estado</th>\n",
       "      <th>id</th>\n",
       "      <th>oracion</th>\n",
       "      <th>review_clean</th>\n",
       "      <th>review_lemm</th>\n",
       "    </tr>\n",
       "  </thead>\n",
       "  <tbody>\n",
       "    <tr>\n",
       "      <th>0</th>\n",
       "      <td>positivo</td>\n",
       "      <td>0</td>\n",
       "      <td>' ( el bigdata ) es una forma que guizhou usó ...</td>\n",
       "      <td>el bigdata es una forma que guizhou usó para ...</td>\n",
       "      <td>bigdata ser forma guizhou usar bajar pobreza</td>\n",
       "    </tr>\n",
       "    <tr>\n",
       "      <th>1</th>\n",
       "      <td>positivo</td>\n",
       "      <td>4</td>\n",
       "      <td>' a la variedad , volumen y veracidad de infor...</td>\n",
       "      <td>a la variedad volumen y veracidad de informac...</td>\n",
       "      <td>variedad volumen veracidad información proveer...</td>\n",
       "    </tr>\n",
       "    <tr>\n",
       "      <th>2</th>\n",
       "      <td>positivo</td>\n",
       "      <td>5</td>\n",
       "      <td>' a la variedad , volumen y veracidad de infor...</td>\n",
       "      <td>a la variedad volumen y veracidad de informac...</td>\n",
       "      <td>variedad volumen veracidad información proveer...</td>\n",
       "    </tr>\n",
       "    <tr>\n",
       "      <th>3</th>\n",
       "      <td>positivo</td>\n",
       "      <td>6</td>\n",
       "      <td>' a medida que florezca la industria nacional ...</td>\n",
       "      <td>a medida que florezca la industria nacional d...</td>\n",
       "      <td>medida florecer industria nacional internet co...</td>\n",
       "    </tr>\n",
       "    <tr>\n",
       "      <th>4</th>\n",
       "      <td>positivo</td>\n",
       "      <td>10</td>\n",
       "      <td>' además , esta información también puede ser ...</td>\n",
       "      <td>además esta información también puede ser de ...</td>\n",
       "      <td>además información poder ser utilidad estudio ...</td>\n",
       "    </tr>\n",
       "  </tbody>\n",
       "</table>\n",
       "</div>"
      ],
      "text/plain": [
       "     estado  id                                            oracion  \\\n",
       "0  positivo   0  ' ( el bigdata ) es una forma que guizhou usó ...   \n",
       "1  positivo   4  ' a la variedad , volumen y veracidad de infor...   \n",
       "2  positivo   5  ' a la variedad , volumen y veracidad de infor...   \n",
       "3  positivo   6  ' a medida que florezca la industria nacional ...   \n",
       "4  positivo  10  ' además , esta información también puede ser ...   \n",
       "\n",
       "                                        review_clean  \\\n",
       "0   el bigdata es una forma que guizhou usó para ...   \n",
       "1   a la variedad volumen y veracidad de informac...   \n",
       "2   a la variedad volumen y veracidad de informac...   \n",
       "3   a medida que florezca la industria nacional d...   \n",
       "4   además esta información también puede ser de ...   \n",
       "\n",
       "                                         review_lemm  \n",
       "0       bigdata ser forma guizhou usar bajar pobreza  \n",
       "1  variedad volumen veracidad información proveer...  \n",
       "2  variedad volumen veracidad información proveer...  \n",
       "3  medida florecer industria nacional internet co...  \n",
       "4  además información poder ser utilidad estudio ...  "
      ]
     },
     "execution_count": 101,
     "metadata": {},
     "output_type": "execute_result"
    }
   ],
   "source": [
    "# Visualizamos el dataframe resultante\n",
    "df.head()"
   ]
  },
  {
   "cell_type": "markdown",
   "metadata": {},
   "source": [
    "### `Vectorizado`"
   ]
  },
  {
   "cell_type": "code",
   "execution_count": 112,
   "metadata": {},
   "outputs": [],
   "source": [
    "# Importamos librerías y creamos vectorizador\n",
    "from sklearn.feature_extraction.text import CountVectorizer\n",
    "from nltk.corpus import stopwords\n",
    "spacy_vec = CountVectorizer(stop_words=stopwords.words('spanish'), analyzer='word', max_features=300) # Importante determinar un número óptimo de max_features para optimizar rendimiento computacional \n",
    "#spacy_vec = CountVectorizer(stop_words=stopwords.words('spanish'), analyzer='word', max_features=300) # Importante determinar un número óptimo de max_features para optimizar rendimiento computacional "
   ]
  },
  {
   "cell_type": "code",
   "execution_count": 113,
   "metadata": {},
   "outputs": [],
   "source": [
    "# Transformamos los datos en bolsa de palabras\n",
    "count_data = spacy_vec.fit(df['review_lemm'])\n",
    "bag_of_words = spacy_vec.transform(df['review_lemm'])\n",
    "count_tokens = spacy_vec.get_feature_names()"
   ]
  },
  {
   "cell_type": "code",
   "execution_count": 114,
   "metadata": {},
   "outputs": [
    {
     "name": "stdout",
     "output_type": "stream",
     "text": [
      "Atributos:\n",
      "['abrir', 'acceso', 'acuerdo', 'adecuado', 'además', 'afirmar', 'agregar', 'agricultura', 'agro', 'ahora', 'algoritmo', 'alguno', 'allí', 'almacenamiento', 'analizar', 'analytic', 'análisis', 'aplicación', 'aplicar', 'aprovechar', 'apuntar', 'argentina', 'argentino', 'artificial', 'asegurar', 'aspecto', 'así', 'automatización', 'ayudar', 'año', 'basado', 'base', 'beneficio', 'bigdata', 'bigdatar', 'bigdato', 'buen', 'buscar', 'búsqueda', 'cada', 'cambio', 'campaña', 'campo', 'cantidad', 'capacidad', 'caso', 'china', 'chino', 'ciencia', 'científico', 'cierto', 'ciudad', 'clave', 'cliente', 'comercial', 'compañía', 'comportamiento', 'comunicación', 'concepto', 'conclusión', 'conjunto', 'conocer', 'conocido', 'conocimiento', 'consumidor', 'consumo', 'contar', 'convertir', 'cosa', 'costo', 'crear', 'crecer', 'crecimiento', 'creer', 'cuenta', 'cuál', 'cómo', 'dar', 'datar', 'dato', 'deber', 'decir', 'decisión', 'dejar', 'dentro', 'desafío', 'desarrollar', 'desarrollo', 'destacar', 'diagnóstico', 'diario', 'diferente', 'digital', 'director', 'dispositivo', 'día', 'economía', 'económico', 'ejecutivo', 'ejemplo', 'electoral', 'empresa', 'encontrar', 'encuesta', 'enorme', 'entender', 'entorno', 'equipo', 'especialista', 'estrategia', 'estructurado', 'estudio', 'existir', 'experiencia', 'experto', 'explicar', 'explosión', 'facilitar', 'forma', 'fuente', 'funcionar', 'futuro', 'generar', 'gente', 'gestión', 'global', 'gobierno', 'gracias', 'gran', 'grande', 'grupo', 'haber', 'hablar', 'hacer', 'hacia', 'herramienta', 'hoy', 'humano', 'implementación', 'implicar', 'importante', 'industria', 'industrial', 'información', 'informe', 'informático', 'innovación', 'inteligencia', 'inteligencia_artificial', 'inteligente', 'internet', 'iot', 'ir', 'jujuy', 'learning', 'llamado', 'llegar', 'llevar', 'lograr', 'lugar', 'machine', 'manejar', 'manejo', 'manera', 'marco', 'masivo', 'mayor', 'mediante', 'mejor', 'mejorar', 'mercadeo', 'mercado', 'millón', 'mismo', 'modelo', 'momento', 'moral', 'movimiento', 'mundial', 'mundo', 'médico', 'nacional', 'necesidad', 'necesitar', 'negocio', 'nivel', 'nube', 'nuevo', 'objetivo', 'obtener', 'oferta', 'ofrecer', 'oportunidad', 'organización', 'parte', 'partir', 'pasado', 'pasar', 'patrón', 'país', 'pensar', 'permitir', 'persona', 'personal', 'plataforma', 'poder', 'política', 'político', 'poner', 'posibilidad', 'posible', 'potencial', 'predecir', 'presentar', 'privado', 'problema', 'procesamiento', 'procesar', 'proceso', 'producción', 'producto', 'profesional', 'programa', 'pronóstico', 'provincia', 'provincial', 'proyecto', 'punto', 'público', 'querer', 'real', 'realidad', 'realizar', 'recurso', 'red', 'redes_social', 'referir', 'relación', 'rendimiento', 'respecto', 'resultado', 'revolución', 'riesgo', 'saber', 'sacar', 'salud', 'sector', 'seguir', 'seguridad', 'según', 'sensor', 'ser', 'servicio', 'señalar', 'si', 'similar', 'sino', 'sistema', 'sitio', 'social', 'sociedad', 'software', 'solo', 'solución', 'sumar', 'sólo', 'tecnología', 'tecnológico', 'telefónico', 'tema', 'tendencia', 'tener', 'tiempo', 'tipo', 'toma', 'tomar', 'trabajar', 'trabajo', 'tradicional', 'transformar', 'tratar', 'través', 'técnica', 'universidad', 'usar', 'uso', 'usuario', 'utilización', 'utilizar', 'valor', 'velocidad', 'venir', 'ventaja', 'ver', 'vez', 'vida', 'volumen', 'volver', 'área', 'último']\n"
     ]
    }
   ],
   "source": [
    "# Imprimimos las features\n",
    "print(\"Atributos:\\n{}\".format(spacy_vec.get_feature_names()))"
   ]
  },
  {
   "cell_type": "code",
   "execution_count": 115,
   "metadata": {},
   "outputs": [],
   "source": [
    "# Creamos un dataset para visualizar \n",
    "df_countvect = pd.DataFrame(data = bag_of_words.toarray(), columns = count_tokens)"
   ]
  },
  {
   "cell_type": "code",
   "execution_count": 116,
   "metadata": {},
   "outputs": [
    {
     "data": {
      "text/html": [
       "<div>\n",
       "<style scoped>\n",
       "    .dataframe tbody tr th:only-of-type {\n",
       "        vertical-align: middle;\n",
       "    }\n",
       "\n",
       "    .dataframe tbody tr th {\n",
       "        vertical-align: top;\n",
       "    }\n",
       "\n",
       "    .dataframe thead th {\n",
       "        text-align: right;\n",
       "    }\n",
       "</style>\n",
       "<table border=\"1\" class=\"dataframe\">\n",
       "  <thead>\n",
       "    <tr style=\"text-align: right;\">\n",
       "      <th></th>\n",
       "      <th>abrir</th>\n",
       "      <th>acceso</th>\n",
       "      <th>acuerdo</th>\n",
       "      <th>adecuado</th>\n",
       "      <th>además</th>\n",
       "      <th>afirmar</th>\n",
       "      <th>agregar</th>\n",
       "      <th>agricultura</th>\n",
       "      <th>agro</th>\n",
       "      <th>ahora</th>\n",
       "      <th>...</th>\n",
       "      <th>velocidad</th>\n",
       "      <th>venir</th>\n",
       "      <th>ventaja</th>\n",
       "      <th>ver</th>\n",
       "      <th>vez</th>\n",
       "      <th>vida</th>\n",
       "      <th>volumen</th>\n",
       "      <th>volver</th>\n",
       "      <th>área</th>\n",
       "      <th>último</th>\n",
       "    </tr>\n",
       "  </thead>\n",
       "  <tbody>\n",
       "    <tr>\n",
       "      <th>0</th>\n",
       "      <td>0</td>\n",
       "      <td>0</td>\n",
       "      <td>0</td>\n",
       "      <td>0</td>\n",
       "      <td>0</td>\n",
       "      <td>0</td>\n",
       "      <td>0</td>\n",
       "      <td>0</td>\n",
       "      <td>0</td>\n",
       "      <td>0</td>\n",
       "      <td>...</td>\n",
       "      <td>0</td>\n",
       "      <td>0</td>\n",
       "      <td>0</td>\n",
       "      <td>0</td>\n",
       "      <td>0</td>\n",
       "      <td>0</td>\n",
       "      <td>0</td>\n",
       "      <td>0</td>\n",
       "      <td>0</td>\n",
       "      <td>0</td>\n",
       "    </tr>\n",
       "    <tr>\n",
       "      <th>1</th>\n",
       "      <td>0</td>\n",
       "      <td>0</td>\n",
       "      <td>0</td>\n",
       "      <td>0</td>\n",
       "      <td>0</td>\n",
       "      <td>1</td>\n",
       "      <td>0</td>\n",
       "      <td>0</td>\n",
       "      <td>0</td>\n",
       "      <td>0</td>\n",
       "      <td>...</td>\n",
       "      <td>1</td>\n",
       "      <td>0</td>\n",
       "      <td>0</td>\n",
       "      <td>0</td>\n",
       "      <td>0</td>\n",
       "      <td>0</td>\n",
       "      <td>1</td>\n",
       "      <td>0</td>\n",
       "      <td>0</td>\n",
       "      <td>0</td>\n",
       "    </tr>\n",
       "    <tr>\n",
       "      <th>2</th>\n",
       "      <td>0</td>\n",
       "      <td>0</td>\n",
       "      <td>0</td>\n",
       "      <td>0</td>\n",
       "      <td>0</td>\n",
       "      <td>0</td>\n",
       "      <td>0</td>\n",
       "      <td>0</td>\n",
       "      <td>0</td>\n",
       "      <td>0</td>\n",
       "      <td>...</td>\n",
       "      <td>1</td>\n",
       "      <td>0</td>\n",
       "      <td>0</td>\n",
       "      <td>0</td>\n",
       "      <td>0</td>\n",
       "      <td>0</td>\n",
       "      <td>1</td>\n",
       "      <td>0</td>\n",
       "      <td>0</td>\n",
       "      <td>0</td>\n",
       "    </tr>\n",
       "    <tr>\n",
       "      <th>3</th>\n",
       "      <td>0</td>\n",
       "      <td>0</td>\n",
       "      <td>0</td>\n",
       "      <td>0</td>\n",
       "      <td>0</td>\n",
       "      <td>0</td>\n",
       "      <td>0</td>\n",
       "      <td>0</td>\n",
       "      <td>0</td>\n",
       "      <td>0</td>\n",
       "      <td>...</td>\n",
       "      <td>0</td>\n",
       "      <td>0</td>\n",
       "      <td>0</td>\n",
       "      <td>0</td>\n",
       "      <td>0</td>\n",
       "      <td>0</td>\n",
       "      <td>0</td>\n",
       "      <td>0</td>\n",
       "      <td>0</td>\n",
       "      <td>0</td>\n",
       "    </tr>\n",
       "    <tr>\n",
       "      <th>4</th>\n",
       "      <td>0</td>\n",
       "      <td>0</td>\n",
       "      <td>0</td>\n",
       "      <td>0</td>\n",
       "      <td>1</td>\n",
       "      <td>0</td>\n",
       "      <td>0</td>\n",
       "      <td>0</td>\n",
       "      <td>0</td>\n",
       "      <td>0</td>\n",
       "      <td>...</td>\n",
       "      <td>0</td>\n",
       "      <td>0</td>\n",
       "      <td>0</td>\n",
       "      <td>0</td>\n",
       "      <td>0</td>\n",
       "      <td>0</td>\n",
       "      <td>0</td>\n",
       "      <td>0</td>\n",
       "      <td>0</td>\n",
       "      <td>0</td>\n",
       "    </tr>\n",
       "  </tbody>\n",
       "</table>\n",
       "<p>5 rows × 300 columns</p>\n",
       "</div>"
      ],
      "text/plain": [
       "   abrir  acceso  acuerdo  adecuado  además  afirmar  agregar  agricultura  \\\n",
       "0      0       0        0         0       0        0        0            0   \n",
       "1      0       0        0         0       0        1        0            0   \n",
       "2      0       0        0         0       0        0        0            0   \n",
       "3      0       0        0         0       0        0        0            0   \n",
       "4      0       0        0         0       1        0        0            0   \n",
       "\n",
       "   agro  ahora  ...  velocidad  venir  ventaja  ver  vez  vida  volumen  \\\n",
       "0     0      0  ...          0      0        0    0    0     0        0   \n",
       "1     0      0  ...          1      0        0    0    0     0        1   \n",
       "2     0      0  ...          1      0        0    0    0     0        1   \n",
       "3     0      0  ...          0      0        0    0    0     0        0   \n",
       "4     0      0  ...          0      0        0    0    0     0        0   \n",
       "\n",
       "   volver  área  último  \n",
       "0       0     0       0  \n",
       "1       0     0       0  \n",
       "2       0     0       0  \n",
       "3       0     0       0  \n",
       "4       0     0       0  \n",
       "\n",
       "[5 rows x 300 columns]"
      ]
     },
     "execution_count": 116,
     "metadata": {},
     "output_type": "execute_result"
    }
   ],
   "source": [
    "# Visualizamos\n",
    "df_countvect.head()"
   ]
  },
  {
   "cell_type": "code",
   "execution_count": 117,
   "metadata": {},
   "outputs": [
    {
     "data": {
      "text/plain": [
       "(511, 300)"
      ]
     },
     "execution_count": 117,
     "metadata": {},
     "output_type": "execute_result"
    }
   ],
   "source": [
    "df_countvect.shape"
   ]
  },
  {
   "cell_type": "code",
   "execution_count": 118,
   "metadata": {},
   "outputs": [],
   "source": [
    "df_countvect = df_countvect.reset_index(drop=True)"
   ]
  },
  {
   "cell_type": "code",
   "execution_count": 119,
   "metadata": {},
   "outputs": [],
   "source": [
    "# Creamos un dataset para aunar todas las series de datos\n",
    "full_data = pd.concat([df, df_countvect], axis=1)"
   ]
  },
  {
   "cell_type": "code",
   "execution_count": 120,
   "metadata": {},
   "outputs": [
    {
     "data": {
      "text/plain": [
       "(511, 305)"
      ]
     },
     "execution_count": 120,
     "metadata": {},
     "output_type": "execute_result"
    }
   ],
   "source": [
    "full_data.shape"
   ]
  },
  {
   "cell_type": "code",
   "execution_count": 121,
   "metadata": {},
   "outputs": [
    {
     "data": {
      "text/html": [
       "<div>\n",
       "<style scoped>\n",
       "    .dataframe tbody tr th:only-of-type {\n",
       "        vertical-align: middle;\n",
       "    }\n",
       "\n",
       "    .dataframe tbody tr th {\n",
       "        vertical-align: top;\n",
       "    }\n",
       "\n",
       "    .dataframe thead th {\n",
       "        text-align: right;\n",
       "    }\n",
       "</style>\n",
       "<table border=\"1\" class=\"dataframe\">\n",
       "  <thead>\n",
       "    <tr style=\"text-align: right;\">\n",
       "      <th></th>\n",
       "      <th>estado</th>\n",
       "      <th>id</th>\n",
       "      <th>oracion</th>\n",
       "      <th>review_clean</th>\n",
       "      <th>review_lemm</th>\n",
       "      <th>abrir</th>\n",
       "      <th>acceso</th>\n",
       "      <th>acuerdo</th>\n",
       "      <th>adecuado</th>\n",
       "      <th>además</th>\n",
       "      <th>...</th>\n",
       "      <th>velocidad</th>\n",
       "      <th>venir</th>\n",
       "      <th>ventaja</th>\n",
       "      <th>ver</th>\n",
       "      <th>vez</th>\n",
       "      <th>vida</th>\n",
       "      <th>volumen</th>\n",
       "      <th>volver</th>\n",
       "      <th>área</th>\n",
       "      <th>último</th>\n",
       "    </tr>\n",
       "  </thead>\n",
       "  <tbody>\n",
       "    <tr>\n",
       "      <th>20</th>\n",
       "      <td>positivo</td>\n",
       "      <td>36</td>\n",
       "      <td>' de este viaje nos trajimos la experiencia de...</td>\n",
       "      <td>de este viaje nos trajimos la experiencia de ...</td>\n",
       "      <td>viaje trajimos experiencia cómo guizhou lograr...</td>\n",
       "      <td>0</td>\n",
       "      <td>0</td>\n",
       "      <td>0</td>\n",
       "      <td>0</td>\n",
       "      <td>0</td>\n",
       "      <td>...</td>\n",
       "      <td>0</td>\n",
       "      <td>0</td>\n",
       "      <td>0</td>\n",
       "      <td>0</td>\n",
       "      <td>0</td>\n",
       "      <td>0</td>\n",
       "      <td>0</td>\n",
       "      <td>0</td>\n",
       "      <td>0</td>\n",
       "      <td>0</td>\n",
       "    </tr>\n",
       "    <tr>\n",
       "      <th>164</th>\n",
       "      <td>positivo</td>\n",
       "      <td>354</td>\n",
       "      <td>• el factor oferta y demanda de tecnología y s...</td>\n",
       "      <td>el factor oferta y demanda de tecnología y se...</td>\n",
       "      <td>factor oferto demanda tecnología servicio bigd...</td>\n",
       "      <td>0</td>\n",
       "      <td>0</td>\n",
       "      <td>0</td>\n",
       "      <td>0</td>\n",
       "      <td>1</td>\n",
       "      <td>...</td>\n",
       "      <td>0</td>\n",
       "      <td>0</td>\n",
       "      <td>0</td>\n",
       "      <td>0</td>\n",
       "      <td>0</td>\n",
       "      <td>0</td>\n",
       "      <td>0</td>\n",
       "      <td>0</td>\n",
       "      <td>0</td>\n",
       "      <td>0</td>\n",
       "    </tr>\n",
       "    <tr>\n",
       "      <th>158</th>\n",
       "      <td>negativo</td>\n",
       "      <td>337</td>\n",
       "      <td>¿ se puede pensar que , tras el escándalo en t...</td>\n",
       "      <td>se puede pensar que tras el escándalo en torn...</td>\n",
       "      <td>poder pensar tras escándalo torno consultora b...</td>\n",
       "      <td>0</td>\n",
       "      <td>0</td>\n",
       "      <td>0</td>\n",
       "      <td>0</td>\n",
       "      <td>0</td>\n",
       "      <td>...</td>\n",
       "      <td>0</td>\n",
       "      <td>0</td>\n",
       "      <td>0</td>\n",
       "      <td>0</td>\n",
       "      <td>0</td>\n",
       "      <td>0</td>\n",
       "      <td>0</td>\n",
       "      <td>1</td>\n",
       "      <td>0</td>\n",
       "      <td>0</td>\n",
       "    </tr>\n",
       "  </tbody>\n",
       "</table>\n",
       "<p>3 rows × 305 columns</p>\n",
       "</div>"
      ],
      "text/plain": [
       "       estado   id                                            oracion  \\\n",
       "20   positivo   36  ' de este viaje nos trajimos la experiencia de...   \n",
       "164  positivo  354  • el factor oferta y demanda de tecnología y s...   \n",
       "158  negativo  337  ¿ se puede pensar que , tras el escándalo en t...   \n",
       "\n",
       "                                          review_clean  \\\n",
       "20    de este viaje nos trajimos la experiencia de ...   \n",
       "164   el factor oferta y demanda de tecnología y se...   \n",
       "158   se puede pensar que tras el escándalo en torn...   \n",
       "\n",
       "                                           review_lemm  abrir  acceso  \\\n",
       "20   viaje trajimos experiencia cómo guizhou lograr...      0       0   \n",
       "164  factor oferto demanda tecnología servicio bigd...      0       0   \n",
       "158  poder pensar tras escándalo torno consultora b...      0       0   \n",
       "\n",
       "     acuerdo  adecuado  además  ...  velocidad  venir  ventaja  ver  vez  \\\n",
       "20         0         0       0  ...          0      0        0    0    0   \n",
       "164        0         0       1  ...          0      0        0    0    0   \n",
       "158        0         0       0  ...          0      0        0    0    0   \n",
       "\n",
       "     vida  volumen  volver  área  último  \n",
       "20      0        0       0     0       0  \n",
       "164     0        0       0     0       0  \n",
       "158     0        0       1     0       0  \n",
       "\n",
       "[3 rows x 305 columns]"
      ]
     },
     "execution_count": 121,
     "metadata": {},
     "output_type": "execute_result"
    }
   ],
   "source": [
    "full_data.sample(3)"
   ]
  },
  {
   "cell_type": "code",
   "execution_count": 122,
   "metadata": {},
   "outputs": [],
   "source": [
    "full_data.to_csv('full_data_vector_01.csv')"
   ]
  },
  {
   "cell_type": "markdown",
   "metadata": {},
   "source": [
    "<hr></hr>"
   ]
  },
  {
   "cell_type": "markdown",
   "metadata": {},
   "source": [
    "# Modelado"
   ]
  },
  {
   "cell_type": "code",
   "execution_count": 124,
   "metadata": {},
   "outputs": [],
   "source": [
    "# Creamos las variables correspondientes\n",
    "x = df_countvect\n",
    "y = df['estado'].values\n",
    "\n",
    "# Train split\n",
    "from sklearn.model_selection import train_test_split\n",
    "xtrain, xtest, ytrain, ytest = train_test_split(x,y,test_size=0.3,random_state=42,stratify=y)"
   ]
  },
  {
   "cell_type": "code",
   "execution_count": 125,
   "metadata": {},
   "outputs": [],
   "source": [
    "df_countvect.to_csv('base_cases.csv')"
   ]
  },
  {
   "cell_type": "code",
   "execution_count": 126,
   "metadata": {},
   "outputs": [],
   "source": [
    "# Función para la visualización de matriz de confusion\n",
    "from sklearn.metrics import confusion_matrix\n",
    "import seaborn as sns\n",
    "\n",
    "def confusion(ytest,y_pred):\n",
    "    names=[\"Negativo\",\"Positivo\"]\n",
    "    cm=confusion_matrix(ytest,y_pred)\n",
    "    f,ax=plt.subplots(figsize=(5,5))\n",
    "    sns.heatmap(cm,annot=True,linewidth=.5,linecolor=\"r\",fmt=\".0f\",ax=ax)\n",
    "    plt.xlabel(\"y_pred\")\n",
    "    plt.ylabel(\"y_true\")\n",
    "    ax.set_xticklabels(names)\n",
    "    ax.set_yticklabels(names)\n",
    "    plt.show()\n",
    "\n",
    "    return"
   ]
  },
  {
   "cell_type": "markdown",
   "metadata": {},
   "source": [
    "### `Naive Bayes`"
   ]
  },
  {
   "cell_type": "code",
   "execution_count": 127,
   "metadata": {},
   "outputs": [
    {
     "name": "stdout",
     "output_type": "stream",
     "text": [
      "acc :  0.7012987012987013\n"
     ]
    }
   ],
   "source": [
    "from sklearn.naive_bayes import GaussianNB\n",
    "nb = GaussianNB()\n",
    "nb.fit(xtrain,ytrain)\n",
    "print(\"acc : \", nb.score(xtest,ytest))"
   ]
  },
  {
   "cell_type": "code",
   "execution_count": 128,
   "metadata": {},
   "outputs": [],
   "source": [
    "nb_pred=nb.predict(xtest)"
   ]
  },
  {
   "cell_type": "code",
   "execution_count": 129,
   "metadata": {},
   "outputs": [
    {
     "data": {
      "image/png": "[encoded data removed]",
      "text/plain": [
       "<Figure size 360x360 with 2 Axes>"
      ]
     },
     "metadata": {},
     "output_type": "display_data"
    }
   ],
   "source": [
    "confusion(ytest, nb_pred)"
   ]
  },
  {
   "cell_type": "code",
   "execution_count": 130,
   "metadata": {},
   "outputs": [
    {
     "data": {
      "image/png": "[encoded data removed]",
      "text/plain": [
       "<Figure size 864x432 with 1 Axes>"
      ]
     },
     "metadata": {},
     "output_type": "display_data"
    }
   ],
   "source": [
    "# Distribución de valores reales y predichos en random forest \n",
    "\n",
    "fig= plt.figure(figsize=(12,6))\n",
    "plt.hist(ytest,bins=20, alpha=0.7, label = 'y_test')\n",
    "plt.hist(nb_pred,bins=20, alpha=0.5, label = 'y_pred')\n",
    "\n",
    "plt.xlabel('Valoraciones + -')\n",
    "plt.ylabel('Hist counter')\n",
    "plt.title('Distribución de precios test / pred')\n",
    "plt.legend(loc='upper right')\n",
    "plt.title('Distribución de valores reaes y predichos en Naive Bayes ', size=22)\n",
    "plt.show()"
   ]
  },
  {
   "cell_type": "markdown",
   "metadata": {},
   "source": [
    "<div style=\"padding: 10px 10px 10px 10px; background-color:lightgrey; color:black; text-align:left\">\n",
    "    <h4>Naive Bayes: Observaciones</h4>\n",
    "    <p> <i>acc :  0.6504854368932039</i></p>\n",
    "    <p> El modelo no parece ser lo suficientemente bueno para nuestras necesidades por 2 razones: </p>\n",
    "    <ul>\n",
    "        <li> A pesar de contar con una muestra sobre-representada de clases positivas, presenta alrededor de un 30% de error en la detección de comentarios de semejante clase.</li>\n",
    "        <li> Y, por el lado de los comentarios negativos, presenta un preocupante distribución de errores al clasificar con una eficiencia menor al 50%.</li>\n",
    "    </ul>\n",
    "    <strong>Veremos qué sucede con otros modelos.</strong>\n",
    "</div>"
   ]
  },
  {
   "cell_type": "markdown",
   "metadata": {},
   "source": [
    "### `Random forest`"
   ]
  },
  {
   "cell_type": "code",
   "execution_count": 131,
   "metadata": {},
   "outputs": [
    {
     "name": "stdout",
     "output_type": "stream",
     "text": [
      "acc :  0.8181818181818182\n"
     ]
    }
   ],
   "source": [
    "from sklearn.ensemble import RandomForestClassifier\n",
    "#creación de modelo y entrenamiento\n",
    "rf = RandomForestClassifier(n_estimators=100, max_features='sqrt', n_jobs=-1, oob_score = True, random_state = 42).fit(xtrain, ytrain)\n",
    "print(\"acc : \", rf.score(xtest,ytest))"
   ]
  },
  {
   "cell_type": "code",
   "execution_count": 132,
   "metadata": {},
   "outputs": [],
   "source": [
    "#predicción\n",
    "rf_pred = rf.predict(xtest)"
   ]
  },
  {
   "cell_type": "code",
   "execution_count": 133,
   "metadata": {},
   "outputs": [
    {
     "data": {
      "image/png": "[encoded data removed]",
      "text/plain": [
       "<Figure size 360x360 with 2 Axes>"
      ]
     },
     "metadata": {},
     "output_type": "display_data"
    }
   ],
   "source": [
    "confusion(ytest, rf_pred)"
   ]
  },
  {
   "cell_type": "code",
   "execution_count": null,
   "metadata": {},
   "outputs": [],
   "source": [
    "# Creamos un dataset para visualizar los features más importantes \n",
    "\n",
    "xtrain_df = pd.DataFrame(data = bag_of_words.toarray(), columns = count_tokens)\n",
    "importances = rf.feature_importances_\n",
    "columns = xtrain_df.columns\n",
    "indices = np.argsort(importances)[230:-1]\n",
    "\n",
    "plt.figure(figsize = (15,8))\n",
    "sns.barplot(columns[indices], importances[indices])\n",
    "plt.show()"
   ]
  },
  {
   "cell_type": "code",
   "execution_count": 134,
   "metadata": {},
   "outputs": [
    {
     "data": {
      "image/png": "[encoded data removed]",
      "text/plain": [
       "<Figure size 864x432 with 1 Axes>"
      ]
     },
     "metadata": {},
     "output_type": "display_data"
    }
   ],
   "source": [
    "# Distribución de valores reales y predichos en random forest \n",
    "\n",
    "fig= plt.figure(figsize=(12,6))\n",
    "plt.hist(ytest,bins=20, alpha=0.7, label = 'y_test')\n",
    "plt.hist(rf_pred,bins=20, alpha=0.5, label = 'y_pred')\n",
    "\n",
    "plt.xlabel('Valoraciones + -')\n",
    "plt.ylabel('Hist counter')\n",
    "plt.title('Distribución de precios test / pred')\n",
    "plt.legend(loc='upper right')\n",
    "plt.title('Distribución de valores reaes y predichos en Random Forest ', size=22)\n",
    "plt.show()"
   ]
  },
  {
   "cell_type": "markdown",
   "metadata": {},
   "source": [
    "<div style=\"padding: 10px 10px 10px 10px; background-color:lightgrey;color:black; text-align:left\">\n",
    "    <h4>Random Forest: Observaciones</h4>\n",
    "    <p><i>acc :  0.8252427184466019</i></p>\n",
    "    <p> El modelo no parece ser lo suficientemente bueno para nuestras necesidades por lo siguiente: </p>\n",
    "    <ul>\n",
    "        <li> Si bien posee casi un 100% de eficacia en la clasificación de clases positivas,</li>\n",
    "        <li> Presenta una eficacia del 30% en la clasificación de muetras negativas.</li>\n",
    "    </ul>\n",
    "    <strong>Veremos qué sucede con otros modelos.</strong>\n",
    "</div>"
   ]
  },
  {
   "cell_type": "markdown",
   "metadata": {},
   "source": [
    "### `SVM`"
   ]
  },
  {
   "cell_type": "code",
   "execution_count": 135,
   "metadata": {},
   "outputs": [
    {
     "data": {
      "text/plain": [
       "0.7662337662337663"
      ]
     },
     "execution_count": 135,
     "metadata": {},
     "output_type": "execute_result"
    }
   ],
   "source": [
    "from sklearn.svm import LinearSVC\n",
    "svc = LinearSVC(C = 1)\n",
    "svc.fit(xtrain, ytrain)\n",
    "svc.score(xtest, ytest)"
   ]
  },
  {
   "cell_type": "code",
   "execution_count": 136,
   "metadata": {},
   "outputs": [],
   "source": [
    "svc_pred = svc.predict(xtest)"
   ]
  },
  {
   "cell_type": "code",
   "execution_count": 137,
   "metadata": {},
   "outputs": [
    {
     "data": {
      "image/png": "[encoded data removed]",
      "text/plain": [
       "<Figure size 360x360 with 2 Axes>"
      ]
     },
     "metadata": {},
     "output_type": "display_data"
    }
   ],
   "source": [
    "confusion(ytest, svc_pred)"
   ]
  },
  {
   "cell_type": "code",
   "execution_count": 138,
   "metadata": {},
   "outputs": [
    {
     "data": {
      "image/png": "[encoded data removed]",
      "text/plain": [
       "<Figure size 864x432 with 1 Axes>"
      ]
     },
     "metadata": {},
     "output_type": "display_data"
    }
   ],
   "source": [
    "# Distribución de valores reales y predichos en random forest \n",
    "\n",
    "fig= plt.figure(figsize=(12,6))\n",
    "plt.hist(ytest,bins=20, alpha=0.7, label = 'y_test')\n",
    "plt.hist(svc_pred,bins=20, alpha=0.5, label = 'y_pred')\n",
    "\n",
    "plt.xlabel('Valoraciones + -')\n",
    "plt.ylabel('Hist counter')\n",
    "plt.title('Distribución de precios test / pred')\n",
    "plt.legend(loc='upper right')\n",
    "plt.title('Distribución de valores reaes y predichos en SVC ', size=22)\n",
    "plt.show()"
   ]
  },
  {
   "cell_type": "markdown",
   "metadata": {},
   "source": [
    "<div style=\"padding: 10px 10px 10px 10px; background-color:lightgrey; text-align:left\">\n",
    "    <h4>SVC: Observaciones</h4>\n",
    "    <p><i>acc :  0.7281553398058253</i></p>\n",
    "    <p> El modelo no parece ser lo suficientemente bueno para nuestras necesidades por lo siguiente: </p>\n",
    "    <ul>\n",
    "        <li> Si bien posee un menor accuracy, es algo que podríamos aceptar en caso de demostrar una eficiencia equivalente en la correcta clasificación de clases tanto negativas como postivas. Sin embargo, no es el caso.</li>\n",
    "    </ul>\n",
    "    <strong>Veremos qué sucede con otros modelos.</strong>\n",
    "</div>"
   ]
  },
  {
   "cell_type": "markdown",
   "metadata": {},
   "source": [
    "### `XGB`"
   ]
  },
  {
   "cell_type": "code",
   "execution_count": 139,
   "metadata": {
    "collapsed": true,
    "jupyter": {
     "outputs_hidden": true
    }
   },
   "outputs": [
    {
     "name": "stdout",
     "output_type": "stream",
     "text": [
      "[0]\tvalidation_0-error:0.156863\tvalidation_1-error:0.233766\n",
      "[1]\tvalidation_0-error:0.154062\tvalidation_1-error:0.24026\n",
      "[2]\tvalidation_0-error:0.156863\tvalidation_1-error:0.24026\n",
      "[3]\tvalidation_0-error:0.148459\tvalidation_1-error:0.214286\n",
      "[4]\tvalidation_0-error:0.148459\tvalidation_1-error:0.194805\n",
      "[5]\tvalidation_0-error:0.148459\tvalidation_1-error:0.188312\n",
      "[6]\tvalidation_0-error:0.148459\tvalidation_1-error:0.201299\n",
      "[7]\tvalidation_0-error:0.140056\tvalidation_1-error:0.188312\n",
      "[8]\tvalidation_0-error:0.145658\tvalidation_1-error:0.194805\n",
      "[9]\tvalidation_0-error:0.142857\tvalidation_1-error:0.188312\n",
      "[10]\tvalidation_0-error:0.140056\tvalidation_1-error:0.194805\n",
      "[11]\tvalidation_0-error:0.142857\tvalidation_1-error:0.188312\n",
      "[12]\tvalidation_0-error:0.140056\tvalidation_1-error:0.194805\n",
      "[13]\tvalidation_0-error:0.137255\tvalidation_1-error:0.188312\n",
      "[14]\tvalidation_0-error:0.137255\tvalidation_1-error:0.188312\n",
      "[15]\tvalidation_0-error:0.140056\tvalidation_1-error:0.188312\n",
      "[16]\tvalidation_0-error:0.140056\tvalidation_1-error:0.188312\n",
      "[17]\tvalidation_0-error:0.140056\tvalidation_1-error:0.188312\n",
      "[18]\tvalidation_0-error:0.134454\tvalidation_1-error:0.188312\n",
      "[19]\tvalidation_0-error:0.134454\tvalidation_1-error:0.188312\n",
      "[20]\tvalidation_0-error:0.134454\tvalidation_1-error:0.181818\n",
      "[21]\tvalidation_0-error:0.134454\tvalidation_1-error:0.181818\n",
      "[22]\tvalidation_0-error:0.131653\tvalidation_1-error:0.175325\n",
      "[23]\tvalidation_0-error:0.131653\tvalidation_1-error:0.175325\n",
      "[24]\tvalidation_0-error:0.131653\tvalidation_1-error:0.175325\n",
      "[25]\tvalidation_0-error:0.123249\tvalidation_1-error:0.175325\n",
      "[26]\tvalidation_0-error:0.12605\tvalidation_1-error:0.175325\n",
      "[27]\tvalidation_0-error:0.12605\tvalidation_1-error:0.175325\n",
      "[28]\tvalidation_0-error:0.117647\tvalidation_1-error:0.175325\n",
      "[29]\tvalidation_0-error:0.117647\tvalidation_1-error:0.175325\n",
      "[30]\tvalidation_0-error:0.112045\tvalidation_1-error:0.175325\n",
      "[31]\tvalidation_0-error:0.112045\tvalidation_1-error:0.175325\n",
      "[32]\tvalidation_0-error:0.112045\tvalidation_1-error:0.175325\n",
      "[33]\tvalidation_0-error:0.112045\tvalidation_1-error:0.175325\n",
      "[34]\tvalidation_0-error:0.112045\tvalidation_1-error:0.175325\n",
      "[35]\tvalidation_0-error:0.112045\tvalidation_1-error:0.175325\n",
      "[36]\tvalidation_0-error:0.109244\tvalidation_1-error:0.175325\n",
      "[37]\tvalidation_0-error:0.109244\tvalidation_1-error:0.175325\n",
      "[38]\tvalidation_0-error:0.109244\tvalidation_1-error:0.175325\n",
      "[39]\tvalidation_0-error:0.106443\tvalidation_1-error:0.162338\n",
      "[40]\tvalidation_0-error:0.103641\tvalidation_1-error:0.181818\n",
      "[41]\tvalidation_0-error:0.106443\tvalidation_1-error:0.162338\n",
      "[42]\tvalidation_0-error:0.103641\tvalidation_1-error:0.162338\n",
      "[43]\tvalidation_0-error:0.103641\tvalidation_1-error:0.162338\n",
      "[44]\tvalidation_0-error:0.103641\tvalidation_1-error:0.168831\n",
      "[45]\tvalidation_0-error:0.103641\tvalidation_1-error:0.181818\n",
      "[46]\tvalidation_0-error:0.103641\tvalidation_1-error:0.168831\n",
      "[47]\tvalidation_0-error:0.103641\tvalidation_1-error:0.168831\n",
      "[48]\tvalidation_0-error:0.103641\tvalidation_1-error:0.168831\n",
      "[49]\tvalidation_0-error:0.098039\tvalidation_1-error:0.168831\n",
      "[50]\tvalidation_0-error:0.10084\tvalidation_1-error:0.168831\n",
      "[51]\tvalidation_0-error:0.098039\tvalidation_1-error:0.168831\n",
      "[52]\tvalidation_0-error:0.095238\tvalidation_1-error:0.168831\n",
      "[53]\tvalidation_0-error:0.095238\tvalidation_1-error:0.168831\n",
      "[54]\tvalidation_0-error:0.092437\tvalidation_1-error:0.162338\n",
      "[55]\tvalidation_0-error:0.092437\tvalidation_1-error:0.162338\n",
      "[56]\tvalidation_0-error:0.092437\tvalidation_1-error:0.162338\n",
      "[57]\tvalidation_0-error:0.089636\tvalidation_1-error:0.162338\n",
      "[58]\tvalidation_0-error:0.089636\tvalidation_1-error:0.162338\n",
      "[59]\tvalidation_0-error:0.086835\tvalidation_1-error:0.162338\n",
      "[60]\tvalidation_0-error:0.086835\tvalidation_1-error:0.162338\n",
      "[61]\tvalidation_0-error:0.089636\tvalidation_1-error:0.162338\n",
      "[62]\tvalidation_0-error:0.089636\tvalidation_1-error:0.162338\n",
      "[63]\tvalidation_0-error:0.084034\tvalidation_1-error:0.162338\n",
      "[64]\tvalidation_0-error:0.084034\tvalidation_1-error:0.162338\n",
      "[65]\tvalidation_0-error:0.07563\tvalidation_1-error:0.162338\n",
      "[66]\tvalidation_0-error:0.07563\tvalidation_1-error:0.162338\n",
      "[67]\tvalidation_0-error:0.07563\tvalidation_1-error:0.162338\n",
      "[68]\tvalidation_0-error:0.07563\tvalidation_1-error:0.162338\n",
      "[69]\tvalidation_0-error:0.072829\tvalidation_1-error:0.162338\n",
      "[70]\tvalidation_0-error:0.072829\tvalidation_1-error:0.162338\n",
      "[71]\tvalidation_0-error:0.070028\tvalidation_1-error:0.162338\n",
      "[72]\tvalidation_0-error:0.067227\tvalidation_1-error:0.162338\n",
      "[73]\tvalidation_0-error:0.067227\tvalidation_1-error:0.162338\n",
      "[74]\tvalidation_0-error:0.067227\tvalidation_1-error:0.162338\n",
      "[75]\tvalidation_0-error:0.067227\tvalidation_1-error:0.162338\n",
      "[76]\tvalidation_0-error:0.067227\tvalidation_1-error:0.162338\n",
      "[77]\tvalidation_0-error:0.067227\tvalidation_1-error:0.162338\n",
      "[78]\tvalidation_0-error:0.067227\tvalidation_1-error:0.162338\n",
      "[79]\tvalidation_0-error:0.067227\tvalidation_1-error:0.162338\n",
      "[80]\tvalidation_0-error:0.064426\tvalidation_1-error:0.162338\n",
      "[81]\tvalidation_0-error:0.064426\tvalidation_1-error:0.162338\n",
      "[82]\tvalidation_0-error:0.064426\tvalidation_1-error:0.162338\n",
      "[83]\tvalidation_0-error:0.064426\tvalidation_1-error:0.162338\n",
      "[84]\tvalidation_0-error:0.064426\tvalidation_1-error:0.162338\n",
      "[85]\tvalidation_0-error:0.064426\tvalidation_1-error:0.162338\n",
      "[86]\tvalidation_0-error:0.064426\tvalidation_1-error:0.168831\n",
      "[87]\tvalidation_0-error:0.064426\tvalidation_1-error:0.168831\n",
      "[88]\tvalidation_0-error:0.064426\tvalidation_1-error:0.168831\n",
      "[89]\tvalidation_0-error:0.064426\tvalidation_1-error:0.168831\n",
      "[90]\tvalidation_0-error:0.064426\tvalidation_1-error:0.168831\n",
      "[91]\tvalidation_0-error:0.064426\tvalidation_1-error:0.168831\n",
      "[92]\tvalidation_0-error:0.064426\tvalidation_1-error:0.168831\n",
      "[93]\tvalidation_0-error:0.064426\tvalidation_1-error:0.168831\n",
      "[94]\tvalidation_0-error:0.064426\tvalidation_1-error:0.168831\n",
      "[95]\tvalidation_0-error:0.064426\tvalidation_1-error:0.168831\n",
      "[96]\tvalidation_0-error:0.064426\tvalidation_1-error:0.168831\n",
      "[97]\tvalidation_0-error:0.064426\tvalidation_1-error:0.168831\n",
      "[98]\tvalidation_0-error:0.064426\tvalidation_1-error:0.168831\n",
      "[99]\tvalidation_0-error:0.067227\tvalidation_1-error:0.168831\n",
      "[100]\tvalidation_0-error:0.067227\tvalidation_1-error:0.168831\n",
      "[101]\tvalidation_0-error:0.064426\tvalidation_1-error:0.168831\n",
      "[102]\tvalidation_0-error:0.064426\tvalidation_1-error:0.168831\n",
      "[103]\tvalidation_0-error:0.064426\tvalidation_1-error:0.168831\n",
      "[104]\tvalidation_0-error:0.064426\tvalidation_1-error:0.168831\n",
      "[105]\tvalidation_0-error:0.064426\tvalidation_1-error:0.168831\n",
      "[106]\tvalidation_0-error:0.064426\tvalidation_1-error:0.168831\n",
      "[107]\tvalidation_0-error:0.064426\tvalidation_1-error:0.168831\n",
      "[108]\tvalidation_0-error:0.064426\tvalidation_1-error:0.168831\n",
      "[109]\tvalidation_0-error:0.064426\tvalidation_1-error:0.168831\n",
      "[110]\tvalidation_0-error:0.067227\tvalidation_1-error:0.168831\n",
      "[111]\tvalidation_0-error:0.067227\tvalidation_1-error:0.168831\n",
      "[112]\tvalidation_0-error:0.064426\tvalidation_1-error:0.168831\n",
      "[113]\tvalidation_0-error:0.064426\tvalidation_1-error:0.168831\n",
      "[114]\tvalidation_0-error:0.064426\tvalidation_1-error:0.168831\n",
      "[115]\tvalidation_0-error:0.064426\tvalidation_1-error:0.168831\n",
      "[116]\tvalidation_0-error:0.064426\tvalidation_1-error:0.168831\n",
      "[117]\tvalidation_0-error:0.064426\tvalidation_1-error:0.168831\n",
      "[118]\tvalidation_0-error:0.064426\tvalidation_1-error:0.168831\n",
      "[119]\tvalidation_0-error:0.064426\tvalidation_1-error:0.168831\n",
      "[120]\tvalidation_0-error:0.067227\tvalidation_1-error:0.168831\n",
      "[121]\tvalidation_0-error:0.067227\tvalidation_1-error:0.168831\n",
      "[122]\tvalidation_0-error:0.064426\tvalidation_1-error:0.168831\n",
      "[123]\tvalidation_0-error:0.067227\tvalidation_1-error:0.168831\n",
      "[124]\tvalidation_0-error:0.064426\tvalidation_1-error:0.168831\n",
      "[125]\tvalidation_0-error:0.067227\tvalidation_1-error:0.168831\n",
      "[126]\tvalidation_0-error:0.067227\tvalidation_1-error:0.168831\n",
      "[127]\tvalidation_0-error:0.067227\tvalidation_1-error:0.168831\n",
      "[128]\tvalidation_0-error:0.067227\tvalidation_1-error:0.168831\n",
      "[129]\tvalidation_0-error:0.067227\tvalidation_1-error:0.168831\n",
      "[130]\tvalidation_0-error:0.067227\tvalidation_1-error:0.168831\n",
      "[131]\tvalidation_0-error:0.064426\tvalidation_1-error:0.168831\n",
      "[132]\tvalidation_0-error:0.061625\tvalidation_1-error:0.168831\n",
      "[133]\tvalidation_0-error:0.058824\tvalidation_1-error:0.168831\n",
      "[134]\tvalidation_0-error:0.058824\tvalidation_1-error:0.168831\n",
      "[135]\tvalidation_0-error:0.058824\tvalidation_1-error:0.168831\n",
      "[136]\tvalidation_0-error:0.053221\tvalidation_1-error:0.168831\n",
      "[137]\tvalidation_0-error:0.056022\tvalidation_1-error:0.168831\n",
      "[138]\tvalidation_0-error:0.053221\tvalidation_1-error:0.168831\n",
      "[139]\tvalidation_0-error:0.053221\tvalidation_1-error:0.168831\n",
      "[140]\tvalidation_0-error:0.056022\tvalidation_1-error:0.168831\n",
      "[141]\tvalidation_0-error:0.053221\tvalidation_1-error:0.168831\n",
      "[142]\tvalidation_0-error:0.053221\tvalidation_1-error:0.168831\n",
      "[143]\tvalidation_0-error:0.053221\tvalidation_1-error:0.168831\n",
      "[144]\tvalidation_0-error:0.053221\tvalidation_1-error:0.168831\n",
      "[145]\tvalidation_0-error:0.053221\tvalidation_1-error:0.168831\n",
      "[146]\tvalidation_0-error:0.053221\tvalidation_1-error:0.168831\n",
      "[147]\tvalidation_0-error:0.053221\tvalidation_1-error:0.168831\n",
      "[148]\tvalidation_0-error:0.053221\tvalidation_1-error:0.168831\n",
      "[149]\tvalidation_0-error:0.053221\tvalidation_1-error:0.168831\n",
      "[150]\tvalidation_0-error:0.053221\tvalidation_1-error:0.162338\n",
      "[151]\tvalidation_0-error:0.053221\tvalidation_1-error:0.162338\n",
      "[152]\tvalidation_0-error:0.053221\tvalidation_1-error:0.162338\n",
      "[153]\tvalidation_0-error:0.053221\tvalidation_1-error:0.162338\n",
      "[154]\tvalidation_0-error:0.05042\tvalidation_1-error:0.162338\n",
      "[155]\tvalidation_0-error:0.047619\tvalidation_1-error:0.162338\n",
      "[156]\tvalidation_0-error:0.047619\tvalidation_1-error:0.162338\n",
      "[157]\tvalidation_0-error:0.047619\tvalidation_1-error:0.162338\n",
      "[158]\tvalidation_0-error:0.047619\tvalidation_1-error:0.162338\n",
      "[159]\tvalidation_0-error:0.047619\tvalidation_1-error:0.162338\n",
      "[160]\tvalidation_0-error:0.047619\tvalidation_1-error:0.162338\n",
      "[161]\tvalidation_0-error:0.047619\tvalidation_1-error:0.162338\n",
      "[162]\tvalidation_0-error:0.044818\tvalidation_1-error:0.162338\n",
      "[163]\tvalidation_0-error:0.042017\tvalidation_1-error:0.168831\n",
      "[164]\tvalidation_0-error:0.044818\tvalidation_1-error:0.168831\n",
      "[165]\tvalidation_0-error:0.042017\tvalidation_1-error:0.168831\n",
      "[166]\tvalidation_0-error:0.042017\tvalidation_1-error:0.162338\n",
      "[167]\tvalidation_0-error:0.042017\tvalidation_1-error:0.175325\n",
      "[168]\tvalidation_0-error:0.039216\tvalidation_1-error:0.175325\n",
      "[169]\tvalidation_0-error:0.039216\tvalidation_1-error:0.168831\n",
      "[170]\tvalidation_0-error:0.039216\tvalidation_1-error:0.175325\n",
      "[171]\tvalidation_0-error:0.039216\tvalidation_1-error:0.162338\n",
      "[172]\tvalidation_0-error:0.039216\tvalidation_1-error:0.175325\n",
      "[173]\tvalidation_0-error:0.039216\tvalidation_1-error:0.162338\n",
      "[174]\tvalidation_0-error:0.039216\tvalidation_1-error:0.168831\n",
      "[175]\tvalidation_0-error:0.039216\tvalidation_1-error:0.168831\n",
      "[176]\tvalidation_0-error:0.036415\tvalidation_1-error:0.175325\n",
      "[177]\tvalidation_0-error:0.036415\tvalidation_1-error:0.168831\n",
      "[178]\tvalidation_0-error:0.039216\tvalidation_1-error:0.168831\n",
      "[179]\tvalidation_0-error:0.039216\tvalidation_1-error:0.168831\n",
      "[180]\tvalidation_0-error:0.036415\tvalidation_1-error:0.168831\n",
      "[181]\tvalidation_0-error:0.036415\tvalidation_1-error:0.175325\n",
      "[182]\tvalidation_0-error:0.033613\tvalidation_1-error:0.181818\n",
      "[183]\tvalidation_0-error:0.033613\tvalidation_1-error:0.181818\n",
      "[184]\tvalidation_0-error:0.033613\tvalidation_1-error:0.175325\n",
      "[185]\tvalidation_0-error:0.033613\tvalidation_1-error:0.175325\n",
      "[186]\tvalidation_0-error:0.033613\tvalidation_1-error:0.175325\n",
      "[187]\tvalidation_0-error:0.033613\tvalidation_1-error:0.181818\n",
      "[188]\tvalidation_0-error:0.033613\tvalidation_1-error:0.175325\n",
      "[189]\tvalidation_0-error:0.033613\tvalidation_1-error:0.181818\n",
      "[190]\tvalidation_0-error:0.033613\tvalidation_1-error:0.188312\n",
      "[191]\tvalidation_0-error:0.033613\tvalidation_1-error:0.181818\n",
      "[192]\tvalidation_0-error:0.033613\tvalidation_1-error:0.181818\n",
      "[193]\tvalidation_0-error:0.033613\tvalidation_1-error:0.181818\n",
      "[194]\tvalidation_0-error:0.033613\tvalidation_1-error:0.181818\n",
      "[195]\tvalidation_0-error:0.033613\tvalidation_1-error:0.181818\n",
      "[196]\tvalidation_0-error:0.033613\tvalidation_1-error:0.181818\n",
      "[197]\tvalidation_0-error:0.033613\tvalidation_1-error:0.181818\n",
      "[198]\tvalidation_0-error:0.030812\tvalidation_1-error:0.181818\n",
      "[199]\tvalidation_0-error:0.030812\tvalidation_1-error:0.181818\n",
      "[200]\tvalidation_0-error:0.030812\tvalidation_1-error:0.181818\n",
      "[201]\tvalidation_0-error:0.030812\tvalidation_1-error:0.181818\n",
      "[202]\tvalidation_0-error:0.030812\tvalidation_1-error:0.181818\n",
      "[203]\tvalidation_0-error:0.030812\tvalidation_1-error:0.181818\n",
      "[204]\tvalidation_0-error:0.030812\tvalidation_1-error:0.181818\n",
      "[205]\tvalidation_0-error:0.030812\tvalidation_1-error:0.181818\n",
      "[206]\tvalidation_0-error:0.030812\tvalidation_1-error:0.181818\n",
      "[207]\tvalidation_0-error:0.030812\tvalidation_1-error:0.181818\n",
      "[208]\tvalidation_0-error:0.030812\tvalidation_1-error:0.181818\n",
      "[209]\tvalidation_0-error:0.030812\tvalidation_1-error:0.181818\n",
      "[210]\tvalidation_0-error:0.030812\tvalidation_1-error:0.181818\n",
      "[211]\tvalidation_0-error:0.030812\tvalidation_1-error:0.181818\n",
      "[212]\tvalidation_0-error:0.030812\tvalidation_1-error:0.181818\n",
      "[213]\tvalidation_0-error:0.030812\tvalidation_1-error:0.181818\n",
      "[214]\tvalidation_0-error:0.030812\tvalidation_1-error:0.188312\n",
      "[215]\tvalidation_0-error:0.030812\tvalidation_1-error:0.188312\n",
      "[216]\tvalidation_0-error:0.030812\tvalidation_1-error:0.188312\n",
      "[217]\tvalidation_0-error:0.030812\tvalidation_1-error:0.181818\n",
      "[218]\tvalidation_0-error:0.030812\tvalidation_1-error:0.188312\n",
      "[219]\tvalidation_0-error:0.030812\tvalidation_1-error:0.188312\n",
      "[220]\tvalidation_0-error:0.030812\tvalidation_1-error:0.188312\n",
      "[221]\tvalidation_0-error:0.030812\tvalidation_1-error:0.188312\n",
      "[222]\tvalidation_0-error:0.030812\tvalidation_1-error:0.181818\n",
      "[223]\tvalidation_0-error:0.030812\tvalidation_1-error:0.181818\n",
      "[224]\tvalidation_0-error:0.030812\tvalidation_1-error:0.181818\n",
      "[225]\tvalidation_0-error:0.030812\tvalidation_1-error:0.181818\n",
      "[226]\tvalidation_0-error:0.030812\tvalidation_1-error:0.181818\n",
      "[227]\tvalidation_0-error:0.030812\tvalidation_1-error:0.188312\n",
      "[228]\tvalidation_0-error:0.030812\tvalidation_1-error:0.181818\n",
      "[229]\tvalidation_0-error:0.028011\tvalidation_1-error:0.181818\n",
      "[230]\tvalidation_0-error:0.028011\tvalidation_1-error:0.181818\n",
      "[231]\tvalidation_0-error:0.030812\tvalidation_1-error:0.181818\n",
      "[232]\tvalidation_0-error:0.028011\tvalidation_1-error:0.181818\n",
      "[233]\tvalidation_0-error:0.028011\tvalidation_1-error:0.181818\n",
      "[234]\tvalidation_0-error:0.028011\tvalidation_1-error:0.181818\n",
      "[235]\tvalidation_0-error:0.028011\tvalidation_1-error:0.181818\n",
      "[236]\tvalidation_0-error:0.028011\tvalidation_1-error:0.181818\n",
      "[237]\tvalidation_0-error:0.028011\tvalidation_1-error:0.181818\n",
      "[238]\tvalidation_0-error:0.028011\tvalidation_1-error:0.175325\n",
      "[239]\tvalidation_0-error:0.028011\tvalidation_1-error:0.175325\n",
      "[240]\tvalidation_0-error:0.028011\tvalidation_1-error:0.175325\n",
      "[241]\tvalidation_0-error:0.02521\tvalidation_1-error:0.175325\n",
      "[242]\tvalidation_0-error:0.02521\tvalidation_1-error:0.175325\n",
      "[243]\tvalidation_0-error:0.02521\tvalidation_1-error:0.175325\n",
      "[244]\tvalidation_0-error:0.02521\tvalidation_1-error:0.175325\n",
      "[245]\tvalidation_0-error:0.02521\tvalidation_1-error:0.175325\n",
      "[246]\tvalidation_0-error:0.02521\tvalidation_1-error:0.175325\n",
      "[247]\tvalidation_0-error:0.02521\tvalidation_1-error:0.175325\n",
      "[248]\tvalidation_0-error:0.022409\tvalidation_1-error:0.175325\n",
      "[249]\tvalidation_0-error:0.022409\tvalidation_1-error:0.175325\n"
     ]
    }
   ],
   "source": [
    "# Creación y entrenamiento de modelo\n",
    "from xgboost import XGBClassifier\n",
    "\n",
    "xgb = XGBClassifier(n_estimators=250, max_depth=9).fit(xtrain, ytrain, eval_set=[(xtrain, ytrain), (xtest, ytest)],\n",
    "        eval_metric=['error'])"
   ]
  },
  {
   "cell_type": "code",
   "execution_count": 140,
   "metadata": {},
   "outputs": [],
   "source": [
    "xgb_pred = xgb.predict(xtest)"
   ]
  },
  {
   "cell_type": "code",
   "execution_count": 141,
   "metadata": {},
   "outputs": [
    {
     "name": "stdout",
     "output_type": "stream",
     "text": [
      "acc:  0.8246753246753247\n"
     ]
    }
   ],
   "source": [
    "print('acc: ', accuracy_score(xgb_pred,ytest))"
   ]
  },
  {
   "cell_type": "code",
   "execution_count": 142,
   "metadata": {},
   "outputs": [
    {
     "data": {
      "image/png": "[encoded data removed]",
      "text/plain": [
       "<Figure size 360x360 with 2 Axes>"
      ]
     },
     "metadata": {},
     "output_type": "display_data"
    }
   ],
   "source": [
    "confusion(ytest, xgb_pred)"
   ]
  },
  {
   "cell_type": "markdown",
   "metadata": {},
   "source": [
    "<div style=\"padding: 10px 10px 10px 10px; background-color:lightgrey; text-align:left\">\n",
    "    <h4>XGB: Observaciones</h4>\n",
    "    <p><i>acc :  0.8058252427184466</i></p>\n",
    "    <p> El modelo no parece ser lo suficientemente bueno para nuestras necesidades por lo siguiente: </p>\n",
    "    <ul>\n",
    "        <li> Como en los casos anteriores, no provee ninguna utilidad en la clasificación de muestras negativas.</li>\n",
    "    </ul>\n",
    "    <strong>Veremos qué sucede con otros modelos.</strong>\n",
    "</div>"
   ]
  },
  {
   "cell_type": "markdown",
   "metadata": {},
   "source": [
    "### `Cross Validation: XGB` "
   ]
  },
  {
   "cell_type": "code",
   "execution_count": 143,
   "metadata": {},
   "outputs": [],
   "source": [
    "from sklearn.model_selection import cross_validate,GridSearchCV\n",
    "from sklearn.metrics import confusion_matrix , accuracy_score\n",
    "clf=XGBClassifier()"
   ]
  },
  {
   "cell_type": "code",
   "execution_count": 144,
   "metadata": {},
   "outputs": [],
   "source": [
    "params={\"n_estimators\":[67,70,100,120],'reg_lambda':[2,1],'gamma':[0,0.3,0.2,0.1]\n",
    "       ,'eta':[0.06,0.05,0.04]\n",
    "        ,\"max_depth\":[3,5],'objective':['binary:logistic']}"
   ]
  },
  {
   "cell_type": "code",
   "execution_count": 145,
   "metadata": {},
   "outputs": [
    {
     "name": "stdout",
     "output_type": "stream",
     "text": [
      "Fitting 10 folds for each of 192 candidates, totalling 1920 fits\n"
     ]
    },
    {
     "data": {
      "text/plain": [
       "GridSearchCV(cv=10, estimator=XGBClassifier(), n_jobs=-1,\n",
       "             param_grid={'eta': [0.06, 0.05, 0.04], 'gamma': [0, 0.3, 0.2, 0.1],\n",
       "                         'max_depth': [3, 5],\n",
       "                         'n_estimators': [67, 70, 100, 120],\n",
       "                         'objective': ['binary:logistic'],\n",
       "                         'reg_lambda': [2, 1]},\n",
       "             verbose=1)"
      ]
     },
     "execution_count": 145,
     "metadata": {},
     "output_type": "execute_result"
    }
   ],
   "source": [
    "model=GridSearchCV(clf,params,cv=10,n_jobs=-1,verbose=1)\n",
    "model.fit(xtrain,ytrain)"
   ]
  },
  {
   "cell_type": "code",
   "execution_count": 146,
   "metadata": {},
   "outputs": [],
   "source": [
    "model_pred=model.predict(xtest)"
   ]
  },
  {
   "cell_type": "code",
   "execution_count": 147,
   "metadata": {},
   "outputs": [
    {
     "name": "stdout",
     "output_type": "stream",
     "text": [
      "acc:  0.8246753246753247\n"
     ]
    },
    {
     "data": {
      "text/plain": [
       "{'eta': 0.06,\n",
       " 'gamma': 0,\n",
       " 'max_depth': 3,\n",
       " 'n_estimators': 67,\n",
       " 'objective': 'binary:logistic',\n",
       " 'reg_lambda': 1}"
      ]
     },
     "execution_count": 147,
     "metadata": {},
     "output_type": "execute_result"
    }
   ],
   "source": [
    "print('acc: ', accuracy_score(model_pred,ytest))\n",
    "model.best_params_"
   ]
  },
  {
   "cell_type": "code",
   "execution_count": 148,
   "metadata": {},
   "outputs": [
    {
     "data": {
      "image/png": "[encoded data removed]",
      "text/plain": [
       "<Figure size 360x360 with 2 Axes>"
      ]
     },
     "metadata": {},
     "output_type": "display_data"
    }
   ],
   "source": [
    "confusion(ytest, model_pred)"
   ]
  },
  {
   "cell_type": "markdown",
   "metadata": {},
   "source": [
    "<div style=\"padding: 10px 10px 10px 10px; background-color:lightgrey;color:black; text-align:left\">\n",
    "    <h4>Cross Validation: Observaciones</h4>\n",
    "    <p><i>acc :  0.8058252427184466</i></p>\n",
    "    <p> El modelo no parece ser lo suficientemente bueno para nuestras necesidades por lo siguiente: </p>\n",
    "    <ul>\n",
    "        <li> Presenta la misma dificultad que todos los otros modelos.</li>\n",
    "        <li> Pareciera, además, que las iteraciones del modelo reforzaron la sobre-representación de clases positivas favoreciendo el bias en el proceso general d la clasificación.</li>\n",
    "    </ul>\n",
    "    <strong>¿Qué podemos hacer en este escenario?</strong>\n",
    "</div>"
   ]
  },
  {
   "cell_type": "markdown",
   "metadata": {},
   "source": [
    "<hr></hr>\n",
    "<div style=\"padding: 10px 10px 10px 10px; background-color:tomato; text-align:left\">\n",
    "    <h3>Observaciones</h3>\n",
    "    <p> Todos los modelos presentan el mismo problema: incapacidad para clasificar correctamente ambas clases.</p>\n",
    "    <p> El problema puede explicarse por las problemáticas previamente indetificadas en el proceso exploratorio: subrepresetnación de las clases negativas y similitud en el vocabulario de ambos tipos de muestras.</p>\n",
    "    <hr/>\n",
    "    <h4>El escollo</h4>\n",
    "    <p>Como consecuencia, <strong> ninguno de los modelos sobrepasó el baseline de lo esperable: aproximadamente %80 de accuracy.</strong></p>\n",
    "    <p>Sobrepasar ese baseline sería un indicio de éxito, pues nos aseguraría un mayor éxito en la clasificación acertada de muestras negativas. </p>\n",
    "    <hr/>\n",
    "    <h4>La propuesta</h4>\n",
    "    <p>Intentaremos conseguir una mayor eficacia mediante la implementación de <strong>Oversampling Methods</strong>.</p>\n",
    "    <p>La propuesta intentará crear una muestra sintética de clases negativas mediante de una estrategia de KNN.</p>\n",
    "    <p>Para ello crearemos un modelo con <i>k = 5</i>, para lograr una variabilidad que no favorezca un sobreajuste del modelo.</p>\n",
    "</div>"
   ]
  },
  {
   "cell_type": "markdown",
   "metadata": {},
   "source": [
    "# RESAMPLING Methods"
   ]
  },
  {
   "cell_type": "code",
   "execution_count": 149,
   "metadata": {},
   "outputs": [],
   "source": [
    "from imblearn.over_sampling import SMOTE"
   ]
  },
  {
   "cell_type": "code",
   "execution_count": 150,
   "metadata": {},
   "outputs": [],
   "source": [
    "# Creamos las variables de entrenamiento\n",
    "X = df_countvect\n",
    "y = df['estado'].values\n",
    "\n",
    "# Creamos el over-sampling mthod knn based\n",
    "from imblearn.over_sampling import RandomOverSampler\n",
    "sm = SMOTE(sampling_strategy='auto', k_neighbors=5, random_state=42)\n",
    "\n",
    "# Generamos finalmente las nuevas variables de entrenamiento\n",
    "x_res, y_res = sm.fit_resample(X, y)\n",
    "\n",
    "# Generamos nuevo split\n",
    "from sklearn.model_selection import train_test_split\n",
    "xtrain2, xtest2, ytrain2, ytest2 = train_test_split(x_res, y_res,test_size=0.2,random_state=42,stratify=y_res)"
   ]
  },
  {
   "cell_type": "code",
   "execution_count": 151,
   "metadata": {},
   "outputs": [
    {
     "data": {
      "image/png": "[encoded data removed]",
      "text/plain": [
       "<Figure size 432x288 with 1 Axes>"
      ]
     },
     "metadata": {},
     "output_type": "display_data"
    }
   ],
   "source": [
    "# Visualizamos la nueva distribución de muestras\n",
    "sns.countplot(y_res)\n",
    "plt.show()"
   ]
  },
  {
   "cell_type": "markdown",
   "metadata": {},
   "source": [
    "<div style=\"padding: 10px 10px 10px 10px; background-color:bisque; color:black; text-align:center\">\n",
    "    <h3>¿Problema resuelto?</h3>\n",
    "</div>"
   ]
  },
  {
   "cell_type": "markdown",
   "metadata": {},
   "source": [
    "###  `Naive Bayes`"
   ]
  },
  {
   "cell_type": "code",
   "execution_count": 152,
   "metadata": {},
   "outputs": [
    {
     "name": "stdout",
     "output_type": "stream",
     "text": [
      "acc :  0.8606060606060606\n"
     ]
    }
   ],
   "source": [
    "from sklearn.naive_bayes import GaussianNB\n",
    "nb2 = GaussianNB()\n",
    "nb2.fit(xtrain2,ytrain2)\n",
    "print(\"acc : \", nb2.score(xtest2,ytest2))"
   ]
  },
  {
   "cell_type": "code",
   "execution_count": 153,
   "metadata": {},
   "outputs": [],
   "source": [
    "nb2_pred = nb2.predict(xtest2)"
   ]
  },
  {
   "cell_type": "code",
   "execution_count": 155,
   "metadata": {},
   "outputs": [
    {
     "data": {
      "image/png": "[encoded data removed]",
      "text/plain": [
       "<Figure size 360x360 with 2 Axes>"
      ]
     },
     "metadata": {},
     "output_type": "display_data"
    }
   ],
   "source": [
    "confusion(ytest2, nb2_pred)"
   ]
  },
  {
   "cell_type": "markdown",
   "metadata": {},
   "source": [
    "<div style=\"padding: 10px 10px 10px 10px; color:black; background-color:lightgrey; text-align:left\">\n",
    "    <h4>Naive Bayes: Observaciones</h4>\n",
    "    <p><i>OverSampling acc :  0.8606060606060606</i></p>\n",
    "    <p> El modelo acrecienta su poder de prección, pero: </p>\n",
    "    <ul>\n",
    "        <li> Hay que notar que de los 83 especímenes de muestras negativas, clasifica correctamente 76. 76/83.</li>\n",
    "        <li> Es notorio también que logra una mayor capacidad predictiva sobre las muestras positivas, siendo el único de los modelos que falló anteriormente en ese sentido.  </li>\n",
    "        <li> <strong>Pero lo más valioso de todo es que notamos un decrecimiento tanto relativo y absoluto respecto del modelo anterior con sólo 20 muestras de testeo negativas. De esas 20 muestras negativas, el modelo clasificaba bien unas 9/20.   </strong></li>\n",
    "        <li><strong> Entonces, podemos afirmar que en el pasaje de 11 a 7 muestras clasificadas erróneamente hay un crecimiento en el reconocimiento de muestras no sintéticas. Nuestro algoritmo ha mejorado. </strong></li>\n",
    "    </ul>\n",
    "    <strong>¿Qué sucede con los siguientes algoritmos?</strong>\n",
    "</div>"
   ]
  },
  {
   "cell_type": "markdown",
   "metadata": {},
   "source": [
    "### `Random Forest`"
   ]
  },
  {
   "cell_type": "code",
   "execution_count": 156,
   "metadata": {},
   "outputs": [
    {
     "name": "stdout",
     "output_type": "stream",
     "text": [
      "acc :  0.8545454545454545\n"
     ]
    }
   ],
   "source": [
    "from sklearn.ensemble import RandomForestClassifier\n",
    "#creación de modelo y entrenamiento\n",
    "rf2 = RandomForestClassifier(n_estimators=100, max_features='sqrt', n_jobs=-1, oob_score = True, random_state = 42).fit(xtrain2, ytrain2)\n",
    "print(\"acc : \", rf2.score(xtest2,ytest2))"
   ]
  },
  {
   "cell_type": "code",
   "execution_count": 157,
   "metadata": {},
   "outputs": [],
   "source": [
    "rf2_pred = rf2.predict(xtest2)"
   ]
  },
  {
   "cell_type": "code",
   "execution_count": 158,
   "metadata": {},
   "outputs": [
    {
     "data": {
      "image/png": "[encoded data removed]",
      "text/plain": [
       "<Figure size 360x360 with 2 Axes>"
      ]
     },
     "metadata": {},
     "output_type": "display_data"
    }
   ],
   "source": [
    "confusion(ytest2, rf2_pred)"
   ]
  },
  {
   "cell_type": "code",
   "execution_count": 172,
   "metadata": {},
   "outputs": [
    {
     "data": {
      "image/png": "[encoded data removed]",
      "text/plain": [
       "<Figure size 1080x576 with 1 Axes>"
      ]
     },
     "metadata": {},
     "output_type": "display_data"
    }
   ],
   "source": [
    "# Creamos un dataset para visualizar los features más importantes \n",
    "\n",
    "xtrain_df = pd.DataFrame(data = bag_of_words.toarray(), columns = count_tokens)\n",
    "importances = rf.feature_importances_\n",
    "columns = xtrain_df.columns\n",
    "indices = np.argsort(importances)[280:300]\n",
    "\n",
    "plt.figure(figsize = (15,8))\n",
    "sns.barplot(columns[indices], importances[indices])\n",
    "plt.show()"
   ]
  },
  {
   "cell_type": "markdown",
   "metadata": {},
   "source": [
    "<div style=\"padding: 10px 10px 10px 10px;color:black; background-color:lightgrey; text-align:left\">\n",
    "    <h4>Random Forest: Observaciones</h4>\n",
    "    <p><i>OverSampling acc :  0.8545454545454545</i></p>\n",
    "    <p> El modelo mejora, pero: </p>\n",
    "    <ul>\n",
    "        <li> No es mejor que el Naive Bayes para detectar muestras negativas.</li>\n",
    "    </ul>\n",
    "    <strong>¿Qué sucederá con los otros modelos?</strong>\n",
    "</div>"
   ]
  },
  {
   "cell_type": "markdown",
   "metadata": {},
   "source": [
    "### `SVM`"
   ]
  },
  {
   "cell_type": "code",
   "execution_count": 159,
   "metadata": {},
   "outputs": [
    {
     "data": {
      "text/plain": [
       "0.8181818181818182"
      ]
     },
     "execution_count": 159,
     "metadata": {},
     "output_type": "execute_result"
    }
   ],
   "source": [
    "from sklearn.svm import LinearSVC\n",
    "svc2 = LinearSVC(C = 1)\n",
    "svc2.fit(xtrain2, ytrain2)\n",
    "svc2.score(xtest2, ytest2)"
   ]
  },
  {
   "cell_type": "code",
   "execution_count": 160,
   "metadata": {},
   "outputs": [],
   "source": [
    "svc2_pred = svc2.predict(xtest2)"
   ]
  },
  {
   "cell_type": "code",
   "execution_count": 161,
   "metadata": {},
   "outputs": [
    {
     "data": {
      "image/png": "[encoded data removed]",
      "text/plain": [
       "<Figure size 360x360 with 2 Axes>"
      ]
     },
     "metadata": {},
     "output_type": "display_data"
    }
   ],
   "source": [
    "confusion(ytest2, svc2_pred)"
   ]
  },
  {
   "cell_type": "markdown",
   "metadata": {},
   "source": [
    "<div style=\"padding: 10px 10px 10px 10px; color:black;background-color:lightgrey; text-align:left\">\n",
    "    <h4>SVM: Observaciones</h4>\n",
    "    <p><i> OverSampling acc :  0.8181818181818182</i></p>\n",
    "    <p> El modelo tiene el mismo rendimiento en reconocimiento de muestras negativas del Naive Bayes, pero: </p>\n",
    "    <ul>\n",
    "        <li> Falla mucho más en el reconocimiento de clases positivas.</li>\n",
    "    </ul>\n",
    "    <strong>¿Qué sucederá con los otros modelos?</strong>\n",
    "</div>"
   ]
  },
  {
   "cell_type": "markdown",
   "metadata": {},
   "source": [
    "### `XGB`"
   ]
  },
  {
   "cell_type": "code",
   "execution_count": 162,
   "metadata": {
    "collapsed": true,
    "jupyter": {
     "outputs_hidden": true
    }
   },
   "outputs": [
    {
     "name": "stdout",
     "output_type": "stream",
     "text": [
      "[0]\tvalidation_0-error:0.248862\tvalidation_1-error:0.315152\n",
      "[1]\tvalidation_0-error:0.212443\tvalidation_1-error:0.290909\n",
      "[2]\tvalidation_0-error:0.212443\tvalidation_1-error:0.290909\n",
      "[3]\tvalidation_0-error:0.221548\tvalidation_1-error:0.309091\n",
      "[4]\tvalidation_0-error:0.197269\tvalidation_1-error:0.284848\n",
      "[5]\tvalidation_0-error:0.182094\tvalidation_1-error:0.242424\n",
      "[6]\tvalidation_0-error:0.185129\tvalidation_1-error:0.236364\n",
      "[7]\tvalidation_0-error:0.182094\tvalidation_1-error:0.224242\n",
      "[8]\tvalidation_0-error:0.172989\tvalidation_1-error:0.224242\n",
      "[9]\tvalidation_0-error:0.174507\tvalidation_1-error:0.230303\n",
      "[10]\tvalidation_0-error:0.162367\tvalidation_1-error:0.236364\n",
      "[11]\tvalidation_0-error:0.165402\tvalidation_1-error:0.230303\n",
      "[12]\tvalidation_0-error:0.159332\tvalidation_1-error:0.224242\n",
      "[13]\tvalidation_0-error:0.156297\tvalidation_1-error:0.224242\n",
      "[14]\tvalidation_0-error:0.150228\tvalidation_1-error:0.224242\n",
      "[15]\tvalidation_0-error:0.15478\tvalidation_1-error:0.218182\n",
      "[16]\tvalidation_0-error:0.150228\tvalidation_1-error:0.206061\n",
      "[17]\tvalidation_0-error:0.147193\tvalidation_1-error:0.212121\n",
      "[18]\tvalidation_0-error:0.135053\tvalidation_1-error:0.218182\n",
      "[19]\tvalidation_0-error:0.135053\tvalidation_1-error:0.218182\n",
      "[20]\tvalidation_0-error:0.138088\tvalidation_1-error:0.218182\n",
      "[21]\tvalidation_0-error:0.138088\tvalidation_1-error:0.218182\n",
      "[22]\tvalidation_0-error:0.135053\tvalidation_1-error:0.224242\n",
      "[23]\tvalidation_0-error:0.130501\tvalidation_1-error:0.224242\n",
      "[24]\tvalidation_0-error:0.128983\tvalidation_1-error:0.224242\n",
      "[25]\tvalidation_0-error:0.125948\tvalidation_1-error:0.212121\n",
      "[26]\tvalidation_0-error:0.122914\tvalidation_1-error:0.212121\n",
      "[27]\tvalidation_0-error:0.118361\tvalidation_1-error:0.218182\n",
      "[28]\tvalidation_0-error:0.119879\tvalidation_1-error:0.224242\n",
      "[29]\tvalidation_0-error:0.116844\tvalidation_1-error:0.224242\n",
      "[30]\tvalidation_0-error:0.121396\tvalidation_1-error:0.230303\n",
      "[31]\tvalidation_0-error:0.118361\tvalidation_1-error:0.224242\n",
      "[32]\tvalidation_0-error:0.116844\tvalidation_1-error:0.212121\n",
      "[33]\tvalidation_0-error:0.115326\tvalidation_1-error:0.218182\n",
      "[34]\tvalidation_0-error:0.109256\tvalidation_1-error:0.224242\n",
      "[35]\tvalidation_0-error:0.112291\tvalidation_1-error:0.230303\n",
      "[36]\tvalidation_0-error:0.115326\tvalidation_1-error:0.224242\n",
      "[37]\tvalidation_0-error:0.113809\tvalidation_1-error:0.218182\n",
      "[38]\tvalidation_0-error:0.110774\tvalidation_1-error:0.212121\n",
      "[39]\tvalidation_0-error:0.109256\tvalidation_1-error:0.206061\n",
      "[40]\tvalidation_0-error:0.106222\tvalidation_1-error:0.2\n",
      "[41]\tvalidation_0-error:0.109256\tvalidation_1-error:0.206061\n",
      "[42]\tvalidation_0-error:0.112291\tvalidation_1-error:0.212121\n",
      "[43]\tvalidation_0-error:0.109256\tvalidation_1-error:0.2\n",
      "[44]\tvalidation_0-error:0.104704\tvalidation_1-error:0.187879\n",
      "[45]\tvalidation_0-error:0.100152\tvalidation_1-error:0.187879\n",
      "[46]\tvalidation_0-error:0.097117\tvalidation_1-error:0.187879\n",
      "[47]\tvalidation_0-error:0.097117\tvalidation_1-error:0.187879\n",
      "[48]\tvalidation_0-error:0.094082\tvalidation_1-error:0.193939\n",
      "[49]\tvalidation_0-error:0.095599\tvalidation_1-error:0.193939\n",
      "[50]\tvalidation_0-error:0.095599\tvalidation_1-error:0.175758\n",
      "[51]\tvalidation_0-error:0.092564\tvalidation_1-error:0.181818\n",
      "[52]\tvalidation_0-error:0.091047\tvalidation_1-error:0.187879\n",
      "[53]\tvalidation_0-error:0.086495\tvalidation_1-error:0.181818\n",
      "[54]\tvalidation_0-error:0.084977\tvalidation_1-error:0.187879\n",
      "[55]\tvalidation_0-error:0.086495\tvalidation_1-error:0.193939\n",
      "[56]\tvalidation_0-error:0.086495\tvalidation_1-error:0.181818\n",
      "[57]\tvalidation_0-error:0.084977\tvalidation_1-error:0.187879\n",
      "[58]\tvalidation_0-error:0.078907\tvalidation_1-error:0.187879\n",
      "[59]\tvalidation_0-error:0.075873\tvalidation_1-error:0.181818\n",
      "[60]\tvalidation_0-error:0.074355\tvalidation_1-error:0.169697\n",
      "[61]\tvalidation_0-error:0.074355\tvalidation_1-error:0.169697\n",
      "[62]\tvalidation_0-error:0.074355\tvalidation_1-error:0.187879\n",
      "[63]\tvalidation_0-error:0.074355\tvalidation_1-error:0.181818\n",
      "[64]\tvalidation_0-error:0.07132\tvalidation_1-error:0.181818\n",
      "[65]\tvalidation_0-error:0.07132\tvalidation_1-error:0.175758\n",
      "[66]\tvalidation_0-error:0.07739\tvalidation_1-error:0.175758\n",
      "[67]\tvalidation_0-error:0.075873\tvalidation_1-error:0.175758\n",
      "[68]\tvalidation_0-error:0.074355\tvalidation_1-error:0.169697\n",
      "[69]\tvalidation_0-error:0.069803\tvalidation_1-error:0.175758\n",
      "[70]\tvalidation_0-error:0.069803\tvalidation_1-error:0.175758\n",
      "[71]\tvalidation_0-error:0.068285\tvalidation_1-error:0.169697\n",
      "[72]\tvalidation_0-error:0.069803\tvalidation_1-error:0.169697\n",
      "[73]\tvalidation_0-error:0.072838\tvalidation_1-error:0.169697\n",
      "[74]\tvalidation_0-error:0.072838\tvalidation_1-error:0.169697\n",
      "[75]\tvalidation_0-error:0.068285\tvalidation_1-error:0.181818\n",
      "[76]\tvalidation_0-error:0.068285\tvalidation_1-error:0.181818\n",
      "[77]\tvalidation_0-error:0.068285\tvalidation_1-error:0.181818\n",
      "[78]\tvalidation_0-error:0.068285\tvalidation_1-error:0.181818\n",
      "[79]\tvalidation_0-error:0.068285\tvalidation_1-error:0.181818\n",
      "[80]\tvalidation_0-error:0.066768\tvalidation_1-error:0.169697\n",
      "[81]\tvalidation_0-error:0.066768\tvalidation_1-error:0.163636\n",
      "[82]\tvalidation_0-error:0.068285\tvalidation_1-error:0.175758\n",
      "[83]\tvalidation_0-error:0.066768\tvalidation_1-error:0.175758\n",
      "[84]\tvalidation_0-error:0.068285\tvalidation_1-error:0.175758\n",
      "[85]\tvalidation_0-error:0.068285\tvalidation_1-error:0.175758\n",
      "[86]\tvalidation_0-error:0.06525\tvalidation_1-error:0.175758\n",
      "[87]\tvalidation_0-error:0.06525\tvalidation_1-error:0.169697\n",
      "[88]\tvalidation_0-error:0.063733\tvalidation_1-error:0.169697\n",
      "[89]\tvalidation_0-error:0.062215\tvalidation_1-error:0.175758\n",
      "[90]\tvalidation_0-error:0.062215\tvalidation_1-error:0.169697\n",
      "[91]\tvalidation_0-error:0.062215\tvalidation_1-error:0.169697\n",
      "[92]\tvalidation_0-error:0.059181\tvalidation_1-error:0.169697\n",
      "[93]\tvalidation_0-error:0.056146\tvalidation_1-error:0.169697\n",
      "[94]\tvalidation_0-error:0.053111\tvalidation_1-error:0.169697\n",
      "[95]\tvalidation_0-error:0.051593\tvalidation_1-error:0.169697\n",
      "[96]\tvalidation_0-error:0.053111\tvalidation_1-error:0.169697\n",
      "[97]\tvalidation_0-error:0.053111\tvalidation_1-error:0.169697\n",
      "[98]\tvalidation_0-error:0.051593\tvalidation_1-error:0.169697\n",
      "[99]\tvalidation_0-error:0.053111\tvalidation_1-error:0.169697\n",
      "[100]\tvalidation_0-error:0.050076\tvalidation_1-error:0.169697\n",
      "[101]\tvalidation_0-error:0.048558\tvalidation_1-error:0.169697\n",
      "[102]\tvalidation_0-error:0.047041\tvalidation_1-error:0.169697\n",
      "[103]\tvalidation_0-error:0.048558\tvalidation_1-error:0.163636\n",
      "[104]\tvalidation_0-error:0.050076\tvalidation_1-error:0.163636\n",
      "[105]\tvalidation_0-error:0.050076\tvalidation_1-error:0.163636\n",
      "[106]\tvalidation_0-error:0.048558\tvalidation_1-error:0.163636\n",
      "[107]\tvalidation_0-error:0.047041\tvalidation_1-error:0.169697\n",
      "[108]\tvalidation_0-error:0.048558\tvalidation_1-error:0.157576\n",
      "[109]\tvalidation_0-error:0.045524\tvalidation_1-error:0.157576\n",
      "[110]\tvalidation_0-error:0.045524\tvalidation_1-error:0.157576\n",
      "[111]\tvalidation_0-error:0.045524\tvalidation_1-error:0.163636\n",
      "[112]\tvalidation_0-error:0.045524\tvalidation_1-error:0.169697\n",
      "[113]\tvalidation_0-error:0.044006\tvalidation_1-error:0.169697\n",
      "[114]\tvalidation_0-error:0.045524\tvalidation_1-error:0.169697\n",
      "[115]\tvalidation_0-error:0.044006\tvalidation_1-error:0.169697\n",
      "[116]\tvalidation_0-error:0.042489\tvalidation_1-error:0.163636\n",
      "[117]\tvalidation_0-error:0.045524\tvalidation_1-error:0.163636\n",
      "[118]\tvalidation_0-error:0.045524\tvalidation_1-error:0.163636\n",
      "[119]\tvalidation_0-error:0.044006\tvalidation_1-error:0.163636\n",
      "[120]\tvalidation_0-error:0.044006\tvalidation_1-error:0.163636\n",
      "[121]\tvalidation_0-error:0.040971\tvalidation_1-error:0.157576\n",
      "[122]\tvalidation_0-error:0.040971\tvalidation_1-error:0.157576\n",
      "[123]\tvalidation_0-error:0.042489\tvalidation_1-error:0.151515\n",
      "[124]\tvalidation_0-error:0.039454\tvalidation_1-error:0.151515\n",
      "[125]\tvalidation_0-error:0.040971\tvalidation_1-error:0.151515\n",
      "[126]\tvalidation_0-error:0.042489\tvalidation_1-error:0.151515\n",
      "[127]\tvalidation_0-error:0.040971\tvalidation_1-error:0.151515\n",
      "[128]\tvalidation_0-error:0.040971\tvalidation_1-error:0.151515\n",
      "[129]\tvalidation_0-error:0.042489\tvalidation_1-error:0.151515\n",
      "[130]\tvalidation_0-error:0.040971\tvalidation_1-error:0.151515\n",
      "[131]\tvalidation_0-error:0.040971\tvalidation_1-error:0.151515\n",
      "[132]\tvalidation_0-error:0.040971\tvalidation_1-error:0.151515\n",
      "[133]\tvalidation_0-error:0.040971\tvalidation_1-error:0.157576\n",
      "[134]\tvalidation_0-error:0.040971\tvalidation_1-error:0.151515\n",
      "[135]\tvalidation_0-error:0.042489\tvalidation_1-error:0.151515\n",
      "[136]\tvalidation_0-error:0.040971\tvalidation_1-error:0.145455\n",
      "[137]\tvalidation_0-error:0.039454\tvalidation_1-error:0.145455\n",
      "[138]\tvalidation_0-error:0.042489\tvalidation_1-error:0.145455\n",
      "[139]\tvalidation_0-error:0.039454\tvalidation_1-error:0.145455\n",
      "[140]\tvalidation_0-error:0.039454\tvalidation_1-error:0.145455\n",
      "[141]\tvalidation_0-error:0.037936\tvalidation_1-error:0.145455\n",
      "[142]\tvalidation_0-error:0.039454\tvalidation_1-error:0.145455\n",
      "[143]\tvalidation_0-error:0.039454\tvalidation_1-error:0.151515\n",
      "[144]\tvalidation_0-error:0.037936\tvalidation_1-error:0.151515\n",
      "[145]\tvalidation_0-error:0.037936\tvalidation_1-error:0.157576\n",
      "[146]\tvalidation_0-error:0.039454\tvalidation_1-error:0.157576\n",
      "[147]\tvalidation_0-error:0.039454\tvalidation_1-error:0.157576\n",
      "[148]\tvalidation_0-error:0.039454\tvalidation_1-error:0.151515\n",
      "[149]\tvalidation_0-error:0.040971\tvalidation_1-error:0.151515\n",
      "[150]\tvalidation_0-error:0.040971\tvalidation_1-error:0.151515\n",
      "[151]\tvalidation_0-error:0.037936\tvalidation_1-error:0.151515\n",
      "[152]\tvalidation_0-error:0.039454\tvalidation_1-error:0.151515\n",
      "[153]\tvalidation_0-error:0.037936\tvalidation_1-error:0.151515\n",
      "[154]\tvalidation_0-error:0.037936\tvalidation_1-error:0.151515\n",
      "[155]\tvalidation_0-error:0.037936\tvalidation_1-error:0.151515\n",
      "[156]\tvalidation_0-error:0.039454\tvalidation_1-error:0.157576\n",
      "[157]\tvalidation_0-error:0.037936\tvalidation_1-error:0.157576\n",
      "[158]\tvalidation_0-error:0.037936\tvalidation_1-error:0.157576\n",
      "[159]\tvalidation_0-error:0.037936\tvalidation_1-error:0.157576\n",
      "[160]\tvalidation_0-error:0.037936\tvalidation_1-error:0.151515\n",
      "[161]\tvalidation_0-error:0.036419\tvalidation_1-error:0.151515\n",
      "[162]\tvalidation_0-error:0.036419\tvalidation_1-error:0.157576\n",
      "[163]\tvalidation_0-error:0.036419\tvalidation_1-error:0.163636\n",
      "[164]\tvalidation_0-error:0.036419\tvalidation_1-error:0.163636\n",
      "[165]\tvalidation_0-error:0.037936\tvalidation_1-error:0.163636\n",
      "[166]\tvalidation_0-error:0.037936\tvalidation_1-error:0.163636\n",
      "[167]\tvalidation_0-error:0.039454\tvalidation_1-error:0.163636\n",
      "[168]\tvalidation_0-error:0.039454\tvalidation_1-error:0.163636\n",
      "[169]\tvalidation_0-error:0.037936\tvalidation_1-error:0.163636\n",
      "[170]\tvalidation_0-error:0.036419\tvalidation_1-error:0.163636\n",
      "[171]\tvalidation_0-error:0.036419\tvalidation_1-error:0.163636\n",
      "[172]\tvalidation_0-error:0.037936\tvalidation_1-error:0.157576\n",
      "[173]\tvalidation_0-error:0.037936\tvalidation_1-error:0.163636\n",
      "[174]\tvalidation_0-error:0.039454\tvalidation_1-error:0.163636\n",
      "[175]\tvalidation_0-error:0.039454\tvalidation_1-error:0.157576\n",
      "[176]\tvalidation_0-error:0.039454\tvalidation_1-error:0.157576\n",
      "[177]\tvalidation_0-error:0.039454\tvalidation_1-error:0.163636\n",
      "[178]\tvalidation_0-error:0.039454\tvalidation_1-error:0.163636\n",
      "[179]\tvalidation_0-error:0.039454\tvalidation_1-error:0.163636\n",
      "[180]\tvalidation_0-error:0.039454\tvalidation_1-error:0.169697\n",
      "[181]\tvalidation_0-error:0.039454\tvalidation_1-error:0.169697\n",
      "[182]\tvalidation_0-error:0.039454\tvalidation_1-error:0.169697\n",
      "[183]\tvalidation_0-error:0.039454\tvalidation_1-error:0.169697\n",
      "[184]\tvalidation_0-error:0.039454\tvalidation_1-error:0.169697\n",
      "[185]\tvalidation_0-error:0.039454\tvalidation_1-error:0.175758\n",
      "[186]\tvalidation_0-error:0.039454\tvalidation_1-error:0.169697\n",
      "[187]\tvalidation_0-error:0.037936\tvalidation_1-error:0.163636\n",
      "[188]\tvalidation_0-error:0.039454\tvalidation_1-error:0.163636\n",
      "[189]\tvalidation_0-error:0.039454\tvalidation_1-error:0.163636\n",
      "[190]\tvalidation_0-error:0.039454\tvalidation_1-error:0.175758\n",
      "[191]\tvalidation_0-error:0.037936\tvalidation_1-error:0.175758\n",
      "[192]\tvalidation_0-error:0.037936\tvalidation_1-error:0.169697\n",
      "[193]\tvalidation_0-error:0.039454\tvalidation_1-error:0.163636\n",
      "[194]\tvalidation_0-error:0.039454\tvalidation_1-error:0.163636\n",
      "[195]\tvalidation_0-error:0.037936\tvalidation_1-error:0.169697\n",
      "[196]\tvalidation_0-error:0.037936\tvalidation_1-error:0.169697\n",
      "[197]\tvalidation_0-error:0.037936\tvalidation_1-error:0.169697\n",
      "[198]\tvalidation_0-error:0.037936\tvalidation_1-error:0.169697\n",
      "[199]\tvalidation_0-error:0.037936\tvalidation_1-error:0.169697\n",
      "[200]\tvalidation_0-error:0.037936\tvalidation_1-error:0.169697\n",
      "[201]\tvalidation_0-error:0.039454\tvalidation_1-error:0.169697\n",
      "[202]\tvalidation_0-error:0.039454\tvalidation_1-error:0.169697\n",
      "[203]\tvalidation_0-error:0.039454\tvalidation_1-error:0.169697\n",
      "[204]\tvalidation_0-error:0.039454\tvalidation_1-error:0.169697\n",
      "[205]\tvalidation_0-error:0.039454\tvalidation_1-error:0.169697\n",
      "[206]\tvalidation_0-error:0.039454\tvalidation_1-error:0.169697\n",
      "[207]\tvalidation_0-error:0.039454\tvalidation_1-error:0.169697\n",
      "[208]\tvalidation_0-error:0.039454\tvalidation_1-error:0.169697\n",
      "[209]\tvalidation_0-error:0.039454\tvalidation_1-error:0.163636\n",
      "[210]\tvalidation_0-error:0.039454\tvalidation_1-error:0.163636\n",
      "[211]\tvalidation_0-error:0.039454\tvalidation_1-error:0.169697\n",
      "[212]\tvalidation_0-error:0.039454\tvalidation_1-error:0.169697\n",
      "[213]\tvalidation_0-error:0.039454\tvalidation_1-error:0.169697\n",
      "[214]\tvalidation_0-error:0.039454\tvalidation_1-error:0.169697\n",
      "[215]\tvalidation_0-error:0.039454\tvalidation_1-error:0.169697\n",
      "[216]\tvalidation_0-error:0.039454\tvalidation_1-error:0.169697\n",
      "[217]\tvalidation_0-error:0.039454\tvalidation_1-error:0.169697\n",
      "[218]\tvalidation_0-error:0.039454\tvalidation_1-error:0.163636\n",
      "[219]\tvalidation_0-error:0.039454\tvalidation_1-error:0.163636\n",
      "[220]\tvalidation_0-error:0.039454\tvalidation_1-error:0.163636\n",
      "[221]\tvalidation_0-error:0.039454\tvalidation_1-error:0.163636\n",
      "[222]\tvalidation_0-error:0.039454\tvalidation_1-error:0.163636\n",
      "[223]\tvalidation_0-error:0.039454\tvalidation_1-error:0.163636\n",
      "[224]\tvalidation_0-error:0.039454\tvalidation_1-error:0.163636\n",
      "[225]\tvalidation_0-error:0.039454\tvalidation_1-error:0.163636\n",
      "[226]\tvalidation_0-error:0.039454\tvalidation_1-error:0.163636\n",
      "[227]\tvalidation_0-error:0.039454\tvalidation_1-error:0.163636\n",
      "[228]\tvalidation_0-error:0.039454\tvalidation_1-error:0.163636\n",
      "[229]\tvalidation_0-error:0.039454\tvalidation_1-error:0.157576\n",
      "[230]\tvalidation_0-error:0.039454\tvalidation_1-error:0.157576\n",
      "[231]\tvalidation_0-error:0.039454\tvalidation_1-error:0.157576\n",
      "[232]\tvalidation_0-error:0.039454\tvalidation_1-error:0.157576\n",
      "[233]\tvalidation_0-error:0.039454\tvalidation_1-error:0.157576\n",
      "[234]\tvalidation_0-error:0.039454\tvalidation_1-error:0.157576\n",
      "[235]\tvalidation_0-error:0.039454\tvalidation_1-error:0.157576\n",
      "[236]\tvalidation_0-error:0.039454\tvalidation_1-error:0.157576\n",
      "[237]\tvalidation_0-error:0.039454\tvalidation_1-error:0.157576\n",
      "[238]\tvalidation_0-error:0.039454\tvalidation_1-error:0.157576\n",
      "[239]\tvalidation_0-error:0.039454\tvalidation_1-error:0.157576\n",
      "[240]\tvalidation_0-error:0.039454\tvalidation_1-error:0.151515\n",
      "[241]\tvalidation_0-error:0.039454\tvalidation_1-error:0.151515\n",
      "[242]\tvalidation_0-error:0.039454\tvalidation_1-error:0.151515\n",
      "[243]\tvalidation_0-error:0.039454\tvalidation_1-error:0.151515\n",
      "[244]\tvalidation_0-error:0.039454\tvalidation_1-error:0.151515\n",
      "[245]\tvalidation_0-error:0.039454\tvalidation_1-error:0.151515\n",
      "[246]\tvalidation_0-error:0.039454\tvalidation_1-error:0.157576\n",
      "[247]\tvalidation_0-error:0.039454\tvalidation_1-error:0.157576\n",
      "[248]\tvalidation_0-error:0.039454\tvalidation_1-error:0.157576\n",
      "[249]\tvalidation_0-error:0.039454\tvalidation_1-error:0.157576\n"
     ]
    }
   ],
   "source": [
    "# Creación y entrenamiento de modelo\n",
    "xgb2 = XGBClassifier(n_estimators=250, max_depth=9).fit(xtrain2, ytrain2, eval_set=[(xtrain2, ytrain2), (xtest2, ytest2)],\n",
    "        eval_metric=['error'])"
   ]
  },
  {
   "cell_type": "code",
   "execution_count": 163,
   "metadata": {},
   "outputs": [],
   "source": [
    "xgb2_pred = xgb.predict(xtest2)"
   ]
  },
  {
   "cell_type": "code",
   "execution_count": 164,
   "metadata": {},
   "outputs": [
    {
     "name": "stdout",
     "output_type": "stream",
     "text": [
      "acc:  0.6\n"
     ]
    }
   ],
   "source": [
    "print('acc: ', accuracy_score(xgb2_pred,ytest2))"
   ]
  },
  {
   "cell_type": "code",
   "execution_count": 165,
   "metadata": {},
   "outputs": [
    {
     "data": {
      "image/png": "[encoded data removed]",
      "text/plain": [
       "<Figure size 360x360 with 2 Axes>"
      ]
     },
     "metadata": {},
     "output_type": "display_data"
    }
   ],
   "source": [
    "confusion(ytest2, xgb2_pred)"
   ]
  },
  {
   "cell_type": "markdown",
   "metadata": {},
   "source": [
    "<div style=\"padding: 10px 10px 10px 10px; color:black;background-color:lightgrey; text-align:left\">\n",
    "    <h4>XGB: Observaciones</h4>\n",
    "    <p><i>acc :  0.6</i></p>\n",
    "    <p> El modelo empeora significativamente.</p>\n",
    "    <strong>Veamos qué pasa con cross validation</strong>\n",
    "</div>"
   ]
  },
  {
   "cell_type": "markdown",
   "metadata": {},
   "source": [
    "### `Cross validation`"
   ]
  },
  {
   "cell_type": "code",
   "execution_count": 72,
   "metadata": {},
   "outputs": [],
   "source": [
    "# xgb cross validation model\n",
    "clf2=XGBClassifier()"
   ]
  },
  {
   "cell_type": "code",
   "execution_count": 73,
   "metadata": {},
   "outputs": [],
   "source": [
    "params={\"n_estimators\":[67,70,100,120],'reg_lambda':[2,1],'gamma':[0,0.3,0.2,0.1]\n",
    "       ,'eta':[0.06,0.05,0.04]\n",
    "        ,\"max_depth\":[3,5],'objective':['binary:logistic']}"
   ]
  },
  {
   "cell_type": "code",
   "execution_count": 74,
   "metadata": {},
   "outputs": [
    {
     "name": "stdout",
     "output_type": "stream",
     "text": [
      "Fitting 10 folds for each of 192 candidates, totalling 1920 fits\n"
     ]
    },
    {
     "data": {
      "text/plain": [
       "GridSearchCV(cv=10, estimator=XGBClassifier(), n_jobs=-1,\n",
       "             param_grid={'eta': [0.06, 0.05, 0.04], 'gamma': [0, 0.3, 0.2, 0.1],\n",
       "                         'max_depth': [3, 5],\n",
       "                         'n_estimators': [67, 70, 100, 120],\n",
       "                         'objective': ['binary:logistic'],\n",
       "                         'reg_lambda': [2, 1]},\n",
       "             verbose=1)"
      ]
     },
     "execution_count": 74,
     "metadata": {},
     "output_type": "execute_result"
    }
   ],
   "source": [
    "model2=GridSearchCV(clf2,params,cv=10,n_jobs=-1,verbose=1)\n",
    "model2.fit(xtrain2,ytrain2)"
   ]
  },
  {
   "cell_type": "code",
   "execution_count": 75,
   "metadata": {},
   "outputs": [],
   "source": [
    "model2_pred=model2.predict(xtest2)"
   ]
  },
  {
   "cell_type": "code",
   "execution_count": 76,
   "metadata": {},
   "outputs": [
    {
     "name": "stdout",
     "output_type": "stream",
     "text": [
      "0.8424242424242424\n"
     ]
    },
    {
     "data": {
      "text/plain": [
       "{'eta': 0.06,\n",
       " 'gamma': 0.1,\n",
       " 'max_depth': 5,\n",
       " 'n_estimators': 120,\n",
       " 'objective': 'binary:logistic',\n",
       " 'reg_lambda': 1}"
      ]
     },
     "execution_count": 76,
     "metadata": {},
     "output_type": "execute_result"
    }
   ],
   "source": [
    "print(accuracy_score(model2_pred,ytest2))\n",
    "model2.best_params_"
   ]
  },
  {
   "cell_type": "code",
   "execution_count": 77,
   "metadata": {},
   "outputs": [
    {
     "data": {
      "image/png": "[encoded data removed]",
      "text/plain": [
       "<Figure size 360x360 with 2 Axes>"
      ]
     },
     "metadata": {},
     "output_type": "display_data"
    }
   ],
   "source": [
    "confusion(ytest2, model2_pred)"
   ]
  },
  {
   "cell_type": "markdown",
   "metadata": {},
   "source": [
    "<div style=\"padding: 10px 10px 10px 10px; background-color:lightgrey;color:black; text-align:left\">\n",
    "    <h4>Cross Validation + XGB: Observaciones</h4>\n",
    "    <p><i> OverSampling acc :  0.8424242424242424</i></p>\n",
    "    <p> El modelo tiene el mismo rendimiento en reconocimiento de muestras negativas del Naive Bayes, pero: </p>\n",
    "    <ul>\n",
    "        <li> Falla un poco más en el reconocimiento de clases positivas.</li>\n",
    "    </ul>\n",
    "</div>"
   ]
  },
  {
   "cell_type": "markdown",
   "metadata": {},
   "source": [
    "<hr></hr>\n",
    "<div style=\"padding: 10px 10px 10px 10px; background-color:tomato; color:black; text-align:left\">\n",
    "    <h3>Corolarios</h3>\n",
    "    <p> Con expcepcíón de XGB, los nuevos modelos entrenados con data sintética mejoraron significativamente el rendimiento en la correcta clasificaicón  (aunque el XGB con Cross Validation logrócasi tan buenos resultados como Naive Bayes).</p>\n",
    "    <p>Sin embargo, aparece un nuevo problema detrás de una correlación fácilmente identificable: </p>\n",
    "    <p>La eficacia en la clasificación de muestras negativas parece haber mejorado en la exacta misma proporción de la proporción de nuevas muestras sintéticas. Para los fines de a exhaustividad, me parece que es algo que podríamos dar por hecho.</p>\n",
    "    <p><strong>Por ello, si diésemos por supuesto que los modelos clasificacan correctamente el 100% de las muestras sintéticas, tendríamos que establecer un baseline de rendimiento significativamente mayor al 80% respecto al accuracy de las muestras negativas de forma tal que nos aseguremos la estrategia de over-sampling nos ayuda con sustento y jsutificación.</strong></p>\n",
    "    <p><strong>Esto último sucede en cierta medida con algunos de los últimos modelos. El que mejor resultados demuestra es el Naive Bayes</strong></p>\n",
    "</div>"
   ]
  },
  {
   "cell_type": "markdown",
   "metadata": {},
   "source": [
    "<hr/>"
   ]
  },
  {
   "cell_type": "markdown",
   "metadata": {},
   "source": [
    "<div style=\"padding: 15px 15px 15px 15px; background-color:lightblue; color:black; text-align:left\">\n",
    "    <h1>Propuestas y próximos pasos</h1>\n",
    "    <p>Cuento con una muestra de 3 mil valoraciones más que aún no han sido clasificadas.</p>\n",
    "    <p>Teniendo en cuenta este detalle me gustaría implementar o al menos plantear el siguiente transcurso de investigación con el objeto de <strong>seguir mejorando nuestro algoritmo de clasificación</strong>:</p>\n",
    "    <ul>\n",
    "        <li>Ya sabemos que el punto más débil de nuestro algoritmo es su eficacia para clasificar muestras negativas. Esto se debe a 2 razones que pudimos identificar: sub-representación de muestras negativas clasificadas para entrenamiento del modelo y, en segundo lugar, la similitud del vocabulario presente entre ambos tipos de muestras. Tales aristas confluyen en la probabilida de que nuestros modelos tiendan a tener un rendimiento poco afortunado en el reconocimiento de muestras negativas. </li>\n",
    "        <li>Pudimos, de todas maneras subsanar dicho problema mediante una estrategia de over-sampling, que nos permitió extender las capacidades predictivas el modelo:</li>\n",
    "        <ul>\n",
    "            <li>\n",
    "                <strong>Antes del oversampling, el mejor rendimiento en el reconocimiento de clases negativas fue de 9/20, algo así como un 45% de eficacia. Desde entonces, ese es nuestro baseline a superar en la contrucción de nuevo modelo con los nuevos datos sintéticos.</strong> \n",
    "            </li>\n",
    "            <li>\n",
    "                <strong>Oversampling mediante, llegamos a una eficacia de 76/83, un poco más del 90% en el reconocimiento de clases negativas. </strong>\n",
    "            </li>\n",
    "            <li>Sin embargo, el modo en el que esto tiene que ser considerado, para ser del todo críticos y exhaustivos con el procedimiento implementado, es considerar cuántas de las muestras originales, no de las sintéticas, pasan a ser correctamente clasificadas con el nuevo modelo de datos 'oversampleados'.\n",
    "            </li>\n",
    "            <li>\n",
    "                Desde esta perspectiva, nuestra mejor eficacia la encontramos en el modelo basado en Naive Bayes, con una eficacia de 76/83, donde sólo 7 muestras permanecen incorrectamente clasificadas. \n",
    "                <ul><li>Con este dato en este mente, podemos considerar, en lo que respecta a la capacidad predictiva de muestras negativas de los datos originales del <i>ytest</i>, una eficacia del 13/20 (recordando que en la muestra original nos quedaban 20 muestras negativas luego del train-split). </li>\n",
    "                    <li><strong>Esto significa que nuestro baseline de mejoramiento del modelo pasa por superar una eficacia del 65% en el reconocimiento de muestras negativas</strong> (habiendo pasado de una eficacia no mayor al 45% de los modelos antes del oversampling).</li>\n",
    "                </ul>\n",
    "            </li>\n",
    "        </ul>\n",
    "            <h4>¿Cómo podemos superar dicho baseline?</h4>\n",
    "        </ul>\n",
    "    <hr/>\n",
    "    \n",
    " \n",
    "    \n",
    "</div>"
   ]
  },
  {
   "cell_type": "markdown",
   "metadata": {},
   "source": [
    "\n",
    "<div style=\"padding: 15px 15px 15px 15px; background-color:lightblue; color:black; text-align:left\">\n",
    "    <h3>Próximos pasos:</h3>\n",
    "    <p><strong>Objetivo:</strong> Obtener más muestras negativas del dataset aún no clasificado haciendo uso del dataset aún no etiquetado (+ de 3 mil muestras). \n",
    "    </p>\n",
    "    <p><strong>Metodología:</strong> </p>\n",
    "    <ol>\n",
    "        <li>Aplicamos el mismo proceso de normalización en nuestro dataset no etiquetado.</li>\n",
    "        <ol>\n",
    "            <li>Eliminamos las valoraciones de menos de x cantidad de palabras o caracteres</li>\n",
    "            <li>Eliminamos stopwords</li>\n",
    "            <li>Pasamos todo a minúsculas</li>\n",
    "            <li>Toekenizamos</li>\n",
    "            <li>Vectorizamos</li>\n",
    "            <li>Contruímos nuevo bag of word, en lo que será el nuevo <strong><i>xtest</i></strong></li>\n",
    "        </ol>\n",
    "        <li>Usamod los datos de testeo para obtener nueva predicción/clasificación.</li>\n",
    "        <li>Obtenemos nuevas muestras clasificadas a partir de la predicción.</li>\n",
    "        <li>Validación cruzada de tales muestras mediante input humano (sólo algunas).</li>\n",
    "        <li>Forjamos nuevos modelos con la combinación de las muestras previamente clasificadas y de las ahora clasificadas.</li>\n",
    "        <li>Evualación de rendimiento de los mejores modelos y muestras de entrenamiento.</li>\n",
    "        <li>Comprobamos si podemos superar el baseline de 65% de accuracy en clasificación de muestras negativas </li>\n",
    "        <li>Evaluación de próximos pasos.</li>\n",
    "    </ol>\n",
    "</div>\n",
    "    "
   ]
  },
  {
   "cell_type": "code",
   "execution_count": 173,
   "metadata": {},
   "outputs": [],
   "source": [
    "##########################\n",
    "# SAVE-LOAD using joblib #\n",
    "##########################\n",
    "from joblib import dump, load"
   ]
  },
  {
   "cell_type": "code",
   "execution_count": 174,
   "metadata": {},
   "outputs": [
    {
     "data": {
      "text/plain": [
       "['nb.joblib']"
      ]
     },
     "execution_count": 174,
     "metadata": {},
     "output_type": "execute_result"
    }
   ],
   "source": [
    "# SAVE\n",
    "dump(nb2, 'nb.joblib') "
   ]
  }
 ],
 "metadata": {
  "kernelspec": {
   "display_name": "Python 3",
   "language": "python",
   "name": "python3"
  },
  "language_info": {
   "codemirror_mode": {
    "name": "ipython",
    "version": 3
   },
   "file_extension": ".py",
   "mimetype": "text/x-python",
   "name": "python",
   "nbconvert_exporter": "python",
   "pygments_lexer": "ipython3",
   "version": "3.7.6"
  }
 },
 "nbformat": 4,
 "nbformat_minor": 4
}
